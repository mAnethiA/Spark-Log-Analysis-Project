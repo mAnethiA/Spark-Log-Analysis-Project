{
 "cells": [
  {
   "cell_type": "code",
   "execution_count": 0,
   "metadata": {
    "application/vnd.databricks.v1+cell": {
     "cellMetadata": {
      "byteLimit": 2048000,
      "rowLimit": 10000
     },
     "inputWidgets": {},
     "nuid": "6482be4c-f067-47c9-b0ac-35c938b94601",
     "showTitle": false,
     "tableResultSettingsMap": {},
     "title": ""
    }
   },
   "outputs": [
    {
     "output_type": "display_data",
     "data": {
      "text/html": [
       "<style scoped>\n",
       "  .table-result-container {\n",
       "    max-height: 300px;\n",
       "    overflow: auto;\n",
       "  }\n",
       "  table, th, td {\n",
       "    border: 1px solid black;\n",
       "    border-collapse: collapse;\n",
       "  }\n",
       "  th, td {\n",
       "    padding: 5px;\n",
       "  }\n",
       "  th {\n",
       "    text-align: left;\n",
       "  }\n",
       "</style><div class='table-result-container'><table class='table-result'><thead style='background-color: white'><tr><th>IP</th><th>Timestamp</th><th>Method</th><th>URL</th><th>Status</th><th>Size</th></tr></thead><tbody><tr><td>192.168.1.62</td><td>10/Feb/2025:12:00:00 +0000</td><td>PUT</td><td>/checkout</td><td>403</td><td>768</td></tr><tr><td>192.168.1.92</td><td>10/Feb/2025:12:04:24 +0000</td><td>PUT</td><td>/profile</td><td>404</td><td>1024</td></tr><tr><td>192.168.1.64</td><td>10/Feb/2025:12:05:32 +0000</td><td>DELETE</td><td>/settings</td><td>201</td><td>256</td></tr><tr><td>192.168.1.83</td><td>10/Feb/2025:12:08:31 +0000</td><td>GET</td><td>/location</td><td>200</td><td>1024</td></tr><tr><td>192.168.1.167</td><td>10/Feb/2025:12:11:27 +0000</td><td>PUT</td><td>/user</td><td>403</td><td>2048</td></tr><tr><td>192.168.1.155</td><td>10/Feb/2025:12:15:00 +0000</td><td>GET</td><td>/news</td><td>200</td><td>256</td></tr><tr><td>192.168.1.60</td><td>10/Feb/2025:12:15:44 +0000</td><td>PUT</td><td>/settings</td><td>503</td><td>1024</td></tr><tr><td>192.168.1.217</td><td>10/Feb/2025:12:17:09 +0000</td><td>DELETE</td><td>/services</td><td>401</td><td>3072</td></tr><tr><td>192.168.1.70</td><td>10/Feb/2025:12:19:24 +0000</td><td>POST</td><td>/activity</td><td>500</td><td>2048</td></tr><tr><td>192.168.1.228</td><td>10/Feb/2025:12:21:17 +0000</td><td>GET</td><td>/blog</td><td>201</td><td>256</td></tr><tr><td>192.168.1.108</td><td>10/Feb/2025:12:25:20 +0000</td><td>GET</td><td>/profile</td><td>403</td><td>768</td></tr><tr><td>192.168.1.58</td><td>10/Feb/2025:12:28:51 +0000</td><td>GET</td><td>/settings</td><td>201</td><td>128</td></tr><tr><td>192.168.1.44</td><td>10/Feb/2025:12:31:47 +0000</td><td>GET</td><td>/contact</td><td>404</td><td>768</td></tr><tr><td>192.168.1.255</td><td>10/Feb/2025:12:33:37 +0000</td><td>POST</td><td>/history</td><td>503</td><td>768</td></tr><tr><td>192.168.1.203</td><td>10/Feb/2025:12:37:26 +0000</td><td>DELETE</td><td>/activity</td><td>503</td><td>256</td></tr><tr><td>192.168.1.231</td><td>10/Feb/2025:12:42:19 +0000</td><td>POST</td><td>/user</td><td>500</td><td>3072</td></tr><tr><td>192.168.1.209</td><td>10/Feb/2025:12:43:58 +0000</td><td>POST</td><td>/location</td><td>403</td><td>1024</td></tr><tr><td>192.168.1.53</td><td>10/Feb/2025:12:45:35 +0000</td><td>POST</td><td>/dashboard</td><td>503</td><td>128</td></tr><tr><td>192.168.1.100</td><td>10/Feb/2025:12:47:45 +0000</td><td>PUT</td><td>/logout</td><td>403</td><td>3072</td></tr><tr><td>192.168.1.101</td><td>10/Feb/2025:12:52:38 +0000</td><td>POST</td><td>/cart</td><td>500</td><td>2048</td></tr><tr><td>192.168.1.243</td><td>10/Feb/2025:12:55:31 +0000</td><td>POST</td><td>/logout</td><td>403</td><td>3072</td></tr><tr><td>192.168.1.95</td><td>10/Feb/2025:13:00:12 +0000</td><td>GET</td><td>/terms</td><td>404</td><td>2048</td></tr><tr><td>192.168.1.177</td><td>10/Feb/2025:13:02:05 +0000</td><td>GET</td><td>/dashboard</td><td>403</td><td>128</td></tr><tr><td>192.168.1.133</td><td>10/Feb/2025:13:06:43 +0000</td><td>DELETE</td><td>/activity</td><td>404</td><td>1024</td></tr><tr><td>192.168.1.141</td><td>10/Feb/2025:13:10:19 +0000</td><td>POST</td><td>/order</td><td>201</td><td>3072</td></tr><tr><td>192.168.1.29</td><td>10/Feb/2025:13:13:04 +0000</td><td>DELETE</td><td>/profile</td><td>404</td><td>128</td></tr><tr><td>192.168.1.80</td><td>10/Feb/2025:13:16:51 +0000</td><td>PUT</td><td>/products</td><td>403</td><td>256</td></tr><tr><td>192.168.1.177</td><td>10/Feb/2025:13:20:10 +0000</td><td>DELETE</td><td>/privacy</td><td>503</td><td>768</td></tr><tr><td>192.168.1.69</td><td>10/Feb/2025:13:23:40 +0000</td><td>GET</td><td>/history</td><td>404</td><td>256</td></tr><tr><td>192.168.1.78</td><td>10/Feb/2025:13:24:36 +0000</td><td>PUT</td><td>/api/data</td><td>401</td><td>512</td></tr><tr><td>192.168.1.126</td><td>10/Feb/2025:13:25:44 +0000</td><td>GET</td><td>/support</td><td>500</td><td>2048</td></tr><tr><td>192.168.1.89</td><td>10/Feb/2025:13:30:16 +0000</td><td>DELETE</td><td>/user</td><td>200</td><td>512</td></tr><tr><td>192.168.1.98</td><td>10/Feb/2025:13:33:52 +0000</td><td>GET</td><td>/admin</td><td>200</td><td>3072</td></tr><tr><td>192.168.1.77</td><td>10/Feb/2025:13:37:33 +0000</td><td>GET</td><td>/report</td><td>404</td><td>128</td></tr><tr><td>192.168.1.254</td><td>10/Feb/2025:13:41:22 +0000</td><td>PUT</td><td>/appointment</td><td>201</td><td>2048</td></tr><tr><td>192.168.1.78</td><td>10/Feb/2025:13:44:37 +0000</td><td>PUT</td><td>/terms</td><td>401</td><td>512</td></tr><tr><td>192.168.1.85</td><td>10/Feb/2025:13:45:12 +0000</td><td>GET</td><td>/profile</td><td>403</td><td>3072</td></tr><tr><td>192.168.1.93</td><td>10/Feb/2025:13:45:42 +0000</td><td>GET</td><td>/schedule</td><td>500</td><td>3072</td></tr><tr><td>192.168.1.166</td><td>10/Feb/2025:13:48:38 +0000</td><td>DELETE</td><td>/blog</td><td>201</td><td>512</td></tr><tr><td>192.168.1.68</td><td>10/Feb/2025:13:53:13 +0000</td><td>POST</td><td>/blog</td><td>503</td><td>3072</td></tr><tr><td>192.168.1.198</td><td>10/Feb/2025:13:57:28 +0000</td><td>GET</td><td>/profile</td><td>401</td><td>256</td></tr><tr><td>192.168.1.54</td><td>10/Feb/2025:14:01:22 +0000</td><td>DELETE</td><td>/update</td><td>401</td><td>2048</td></tr><tr><td>192.168.1.248</td><td>10/Feb/2025:14:03:40 +0000</td><td>DELETE</td><td>/schedule</td><td>404</td><td>2048</td></tr><tr><td>192.168.1.128</td><td>10/Feb/2025:14:07:59 +0000</td><td>PUT</td><td>/appointment</td><td>401</td><td>2048</td></tr><tr><td>192.168.1.194</td><td>10/Feb/2025:14:08:33 +0000</td><td>GET</td><td>/contact</td><td>404</td><td>3072</td></tr><tr><td>192.168.1.104</td><td>10/Feb/2025:14:11:44 +0000</td><td>DELETE</td><td>/feedback</td><td>503</td><td>256</td></tr><tr><td>192.168.1.138</td><td>10/Feb/2025:14:13:05 +0000</td><td>PUT</td><td>/complaint</td><td>403</td><td>1024</td></tr><tr><td>192.168.1.12</td><td>10/Feb/2025:14:18:05 +0000</td><td>DELETE</td><td>/support</td><td>403</td><td>768</td></tr><tr><td>192.168.1.88</td><td>10/Feb/2025:14:20:56 +0000</td><td>DELETE</td><td>/signup</td><td>503</td><td>3072</td></tr><tr><td>192.168.1.148</td><td>10/Feb/2025:14:23:59 +0000</td><td>POST</td><td>/blog</td><td>200</td><td>256</td></tr><tr><td>192.168.1.166</td><td>10/Feb/2025:14:25:29 +0000</td><td>POST</td><td>/checkout</td><td>401</td><td>2048</td></tr><tr><td>192.168.1.179</td><td>10/Feb/2025:14:27:23 +0000</td><td>DELETE</td><td>/contact</td><td>401</td><td>256</td></tr><tr><td>192.168.1.241</td><td>10/Feb/2025:14:30:16 +0000</td><td>PUT</td><td>/schedule</td><td>500</td><td>1024</td></tr><tr><td>192.168.1.196</td><td>10/Feb/2025:14:34:52 +0000</td><td>GET</td><td>/report</td><td>403</td><td>3072</td></tr><tr><td>192.168.1.162</td><td>10/Feb/2025:14:39:10 +0000</td><td>DELETE</td><td>/logout</td><td>503</td><td>128</td></tr><tr><td>192.168.1.109</td><td>10/Feb/2025:14:40:52 +0000</td><td>DELETE</td><td>/update</td><td>201</td><td>128</td></tr><tr><td>192.168.1.209</td><td>10/Feb/2025:14:45:35 +0000</td><td>PUT</td><td>/settings</td><td>503</td><td>1024</td></tr><tr><td>192.168.1.36</td><td>10/Feb/2025:14:48:19 +0000</td><td>GET</td><td>/activity</td><td>500</td><td>2048</td></tr><tr><td>192.168.1.205</td><td>10/Feb/2025:14:50:02 +0000</td><td>GET</td><td>/complaint</td><td>403</td><td>1024</td></tr><tr><td>192.168.1.45</td><td>10/Feb/2025:14:51:55 +0000</td><td>DELETE</td><td>/order</td><td>200</td><td>768</td></tr><tr><td>192.168.1.150</td><td>10/Feb/2025:14:56:40 +0000</td><td>GET</td><td>/signup</td><td>500</td><td>2048</td></tr><tr><td>192.168.1.43</td><td>10/Feb/2025:15:00:45 +0000</td><td>GET</td><td>/api/data</td><td>404</td><td>3072</td></tr><tr><td>192.168.1.252</td><td>10/Feb/2025:15:05:39 +0000</td><td>POST</td><td>/blog</td><td>500</td><td>768</td></tr><tr><td>192.168.1.98</td><td>10/Feb/2025:15:07:57 +0000</td><td>POST</td><td>/login</td><td>500</td><td>512</td></tr><tr><td>192.168.1.159</td><td>10/Feb/2025:15:08:53 +0000</td><td>POST</td><td>/history</td><td>403</td><td>768</td></tr><tr><td>192.168.1.136</td><td>10/Feb/2025:15:13:25 +0000</td><td>GET</td><td>/user</td><td>503</td><td>2048</td></tr><tr><td>192.168.1.187</td><td>10/Feb/2025:15:16:37 +0000</td><td>POST</td><td>/login</td><td>503</td><td>512</td></tr><tr><td>192.168.1.191</td><td>10/Feb/2025:15:18:18 +0000</td><td>POST</td><td>/login</td><td>404</td><td>256</td></tr><tr><td>192.168.1.31</td><td>10/Feb/2025:15:21:36 +0000</td><td>DELETE</td><td>/api/data</td><td>201</td><td>256</td></tr><tr><td>192.168.1.92</td><td>10/Feb/2025:15:26:34 +0000</td><td>GET</td><td>/order</td><td>403</td><td>2048</td></tr><tr><td>192.168.1.220</td><td>10/Feb/2025:15:28:31 +0000</td><td>PUT</td><td>/blog</td><td>401</td><td>256</td></tr><tr><td>192.168.1.169</td><td>10/Feb/2025:15:29:56 +0000</td><td>DELETE</td><td>/support</td><td>401</td><td>128</td></tr><tr><td>192.168.1.78</td><td>10/Feb/2025:15:30:26 +0000</td><td>POST</td><td>/logout</td><td>404</td><td>768</td></tr><tr><td>192.168.1.141</td><td>10/Feb/2025:15:35:24 +0000</td><td>PUT</td><td>/reviews</td><td>200</td><td>512</td></tr><tr><td>192.168.1.151</td><td>10/Feb/2025:15:38:11 +0000</td><td>POST</td><td>/faq</td><td>403</td><td>128</td></tr><tr><td>192.168.1.178</td><td>10/Feb/2025:15:42:17 +0000</td><td>POST</td><td>/admin</td><td>403</td><td>3072</td></tr><tr><td>192.168.1.148</td><td>10/Feb/2025:15:47:08 +0000</td><td>DELETE</td><td>/admin</td><td>401</td><td>128</td></tr><tr><td>192.168.1.128</td><td>10/Feb/2025:15:49:11 +0000</td><td>DELETE</td><td>/login</td><td>403</td><td>1024</td></tr><tr><td>192.168.1.97</td><td>10/Feb/2025:15:49:45 +0000</td><td>DELETE</td><td>/wishlist</td><td>404</td><td>768</td></tr><tr><td>192.168.1.141</td><td>10/Feb/2025:15:52:39 +0000</td><td>DELETE</td><td>/blog</td><td>404</td><td>512</td></tr><tr><td>192.168.1.208</td><td>10/Feb/2025:15:55:33 +0000</td><td>PUT</td><td>/complaint</td><td>404</td><td>3072</td></tr><tr><td>192.168.1.214</td><td>10/Feb/2025:15:57:53 +0000</td><td>PUT</td><td>/blog</td><td>200</td><td>3072</td></tr><tr><td>192.168.1.66</td><td>10/Feb/2025:16:01:32 +0000</td><td>PUT</td><td>/wishlist</td><td>500</td><td>1024</td></tr><tr><td>192.168.1.131</td><td>10/Feb/2025:16:05:12 +0000</td><td>GET</td><td>/contact</td><td>404</td><td>3072</td></tr><tr><td>192.168.1.56</td><td>10/Feb/2025:16:08:07 +0000</td><td>PUT</td><td>/privacy</td><td>201</td><td>1024</td></tr><tr><td>192.168.1.116</td><td>10/Feb/2025:16:09:32 +0000</td><td>PUT</td><td>/settings</td><td>401</td><td>3072</td></tr><tr><td>192.168.1.168</td><td>10/Feb/2025:16:11:52 +0000</td><td>GET</td><td>/signup</td><td>503</td><td>256</td></tr><tr><td>192.168.1.243</td><td>10/Feb/2025:16:14:33 +0000</td><td>POST</td><td>/wishlist</td><td>201</td><td>256</td></tr><tr><td>192.168.1.160</td><td>10/Feb/2025:16:19:12 +0000</td><td>DELETE</td><td>/admin</td><td>503</td><td>128</td></tr><tr><td>192.168.1.140</td><td>10/Feb/2025:16:23:11 +0000</td><td>PUT</td><td>/account</td><td>401</td><td>768</td></tr><tr><td>192.168.1.210</td><td>10/Feb/2025:16:25:26 +0000</td><td>PUT</td><td>/login</td><td>401</td><td>512</td></tr><tr><td>192.168.1.225</td><td>10/Feb/2025:16:28:57 +0000</td><td>GET</td><td>/dashboard</td><td>201</td><td>3072</td></tr><tr><td>192.168.1.89</td><td>10/Feb/2025:16:29:27 +0000</td><td>PUT</td><td>/history</td><td>201</td><td>2048</td></tr><tr><td>192.168.1.137</td><td>10/Feb/2025:16:30:43 +0000</td><td>GET</td><td>/feedback</td><td>403</td><td>128</td></tr><tr><td>192.168.1.51</td><td>10/Feb/2025:16:31:26 +0000</td><td>DELETE</td><td>/login</td><td>201</td><td>128</td></tr><tr><td>192.168.1.96</td><td>10/Feb/2025:16:35:17 +0000</td><td>DELETE</td><td>/signup</td><td>503</td><td>2048</td></tr><tr><td>192.168.1.242</td><td>10/Feb/2025:16:37:27 +0000</td><td>GET</td><td>/about</td><td>500</td><td>1024</td></tr><tr><td>192.168.1.230</td><td>10/Feb/2025:16:39:34 +0000</td><td>DELETE</td><td>/dashboard</td><td>200</td><td>128</td></tr><tr><td>192.168.1.238</td><td>10/Feb/2025:16:44:31 +0000</td><td>POST</td><td>/dashboard</td><td>503</td><td>512</td></tr><tr><td>192.168.1.44</td><td>10/Feb/2025:16:46:45 +0000</td><td>POST</td><td>/report</td><td>503</td><td>2048</td></tr><tr><td>192.168.1.229</td><td>10/Feb/2025:16:49:20 +0000</td><td>POST</td><td>/complaint</td><td>401</td><td>256</td></tr><tr><td>192.168.1.201</td><td>10/Feb/2025:16:50:39 +0000</td><td>PUT</td><td>/logout</td><td>503</td><td>1024</td></tr><tr><td>192.168.1.235</td><td>10/Feb/2025:16:54:01 +0000</td><td>GET</td><td>/wishlist</td><td>404</td><td>128</td></tr><tr><td>192.168.1.162</td><td>10/Feb/2025:16:56:02 +0000</td><td>PUT</td><td>/support</td><td>200</td><td>768</td></tr><tr><td>192.168.1.208</td><td>10/Feb/2025:16:59:38 +0000</td><td>POST</td><td>/admin</td><td>503</td><td>128</td></tr><tr><td>192.168.1.116</td><td>10/Feb/2025:17:00:40 +0000</td><td>DELETE</td><td>/blog</td><td>403</td><td>256</td></tr><tr><td>192.168.1.41</td><td>10/Feb/2025:17:05:36 +0000</td><td>POST</td><td>/schedule</td><td>500</td><td>128</td></tr><tr><td>192.168.1.9</td><td>10/Feb/2025:17:07:49 +0000</td><td>DELETE</td><td>/reviews</td><td>403</td><td>128</td></tr><tr><td>192.168.1.11</td><td>10/Feb/2025:17:08:40 +0000</td><td>DELETE</td><td>/dashboard</td><td>404</td><td>128</td></tr><tr><td>192.168.1.199</td><td>10/Feb/2025:17:11:17 +0000</td><td>POST</td><td>/complaint</td><td>200</td><td>512</td></tr><tr><td>192.168.1.114</td><td>10/Feb/2025:17:14:17 +0000</td><td>POST</td><td>/location</td><td>200</td><td>768</td></tr><tr><td>192.168.1.112</td><td>10/Feb/2025:17:16:34 +0000</td><td>PUT</td><td>/blog</td><td>401</td><td>256</td></tr><tr><td>192.168.1.19</td><td>10/Feb/2025:17:18:33 +0000</td><td>PUT</td><td>/checkout</td><td>403</td><td>256</td></tr><tr><td>192.168.1.155</td><td>10/Feb/2025:17:21:19 +0000</td><td>POST</td><td>/api/data</td><td>200</td><td>2048</td></tr><tr><td>192.168.1.192</td><td>10/Feb/2025:17:26:03 +0000</td><td>DELETE</td><td>/wishlist</td><td>404</td><td>256</td></tr><tr><td>192.168.1.158</td><td>10/Feb/2025:17:30:57 +0000</td><td>POST</td><td>/update</td><td>500</td><td>512</td></tr><tr><td>192.168.1.245</td><td>10/Feb/2025:17:32:43 +0000</td><td>POST</td><td>/admin</td><td>200</td><td>3072</td></tr><tr><td>192.168.1.239</td><td>10/Feb/2025:17:35:11 +0000</td><td>PUT</td><td>/checkout</td><td>200</td><td>2048</td></tr><tr><td>192.168.1.192</td><td>10/Feb/2025:17:38:57 +0000</td><td>PUT</td><td>/products</td><td>503</td><td>512</td></tr><tr><td>192.168.1.102</td><td>10/Feb/2025:17:41:48 +0000</td><td>PUT</td><td>/admin</td><td>401</td><td>512</td></tr><tr><td>192.168.1.82</td><td>10/Feb/2025:17:42:30 +0000</td><td>DELETE</td><td>/news</td><td>201</td><td>256</td></tr><tr><td>192.168.1.163</td><td>10/Feb/2025:17:46:32 +0000</td><td>DELETE</td><td>/cart</td><td>401</td><td>1024</td></tr><tr><td>192.168.1.239</td><td>10/Feb/2025:17:47:32 +0000</td><td>PUT</td><td>/appointment</td><td>404</td><td>256</td></tr><tr><td>192.168.1.70</td><td>10/Feb/2025:17:48:33 +0000</td><td>DELETE</td><td>/account</td><td>404</td><td>256</td></tr><tr><td>192.168.1.74</td><td>10/Feb/2025:17:50:37 +0000</td><td>PUT</td><td>/privacy</td><td>401</td><td>256</td></tr><tr><td>192.168.1.238</td><td>10/Feb/2025:17:52:17 +0000</td><td>DELETE</td><td>/activity</td><td>503</td><td>128</td></tr><tr><td>192.168.1.104</td><td>10/Feb/2025:17:54:10 +0000</td><td>GET</td><td>/report</td><td>401</td><td>2048</td></tr><tr><td>192.168.1.224</td><td>10/Feb/2025:17:58:12 +0000</td><td>POST</td><td>/news</td><td>403</td><td>1024</td></tr><tr><td>192.168.1.45</td><td>10/Feb/2025:18:00:20 +0000</td><td>PUT</td><td>/news</td><td>200</td><td>1024</td></tr><tr><td>192.168.1.75</td><td>10/Feb/2025:18:03:12 +0000</td><td>GET</td><td>/update</td><td>401</td><td>128</td></tr><tr><td>192.168.1.35</td><td>10/Feb/2025:18:06:15 +0000</td><td>GET</td><td>/location</td><td>201</td><td>1024</td></tr><tr><td>192.168.1.28</td><td>10/Feb/2025:18:07:41 +0000</td><td>DELETE</td><td>/feedback</td><td>503</td><td>256</td></tr><tr><td>192.168.1.134</td><td>10/Feb/2025:18:11:17 +0000</td><td>GET</td><td>/report</td><td>404</td><td>512</td></tr><tr><td>192.168.1.101</td><td>10/Feb/2025:18:13:47 +0000</td><td>PUT</td><td>/support</td><td>500</td><td>768</td></tr><tr><td>192.168.1.172</td><td>10/Feb/2025:18:14:22 +0000</td><td>PUT</td><td>/account</td><td>500</td><td>3072</td></tr><tr><td>192.168.1.84</td><td>10/Feb/2025:18:18:57 +0000</td><td>POST</td><td>/cart</td><td>500</td><td>2048</td></tr><tr><td>192.168.1.164</td><td>10/Feb/2025:18:23:31 +0000</td><td>DELETE</td><td>/contact</td><td>404</td><td>128</td></tr><tr><td>192.168.1.167</td><td>10/Feb/2025:18:24:22 +0000</td><td>GET</td><td>/terms</td><td>403</td><td>3072</td></tr><tr><td>192.168.1.147</td><td>10/Feb/2025:18:25:10 +0000</td><td>POST</td><td>/support</td><td>500</td><td>1024</td></tr><tr><td>192.168.1.50</td><td>10/Feb/2025:18:27:46 +0000</td><td>PUT</td><td>/activity</td><td>201</td><td>2048</td></tr><tr><td>192.168.1.247</td><td>10/Feb/2025:18:32:19 +0000</td><td>PUT</td><td>/order</td><td>401</td><td>256</td></tr><tr><td>192.168.1.112</td><td>10/Feb/2025:18:36:49 +0000</td><td>PUT</td><td>/signup</td><td>401</td><td>2048</td></tr><tr><td>192.168.1.251</td><td>10/Feb/2025:18:41:02 +0000</td><td>POST</td><td>/login</td><td>503</td><td>1024</td></tr><tr><td>192.168.1.230</td><td>10/Feb/2025:18:44:14 +0000</td><td>GET</td><td>/about</td><td>503</td><td>768</td></tr><tr><td>192.168.1.33</td><td>10/Feb/2025:18:49:09 +0000</td><td>PUT</td><td>/blog</td><td>401</td><td>512</td></tr><tr><td>192.168.1.189</td><td>10/Feb/2025:18:51:02 +0000</td><td>GET</td><td>/home</td><td>503</td><td>3072</td></tr><tr><td>192.168.1.193</td><td>10/Feb/2025:18:55:22 +0000</td><td>DELETE</td><td>/cart</td><td>200</td><td>512</td></tr><tr><td>192.168.1.215</td><td>10/Feb/2025:18:58:38 +0000</td><td>GET</td><td>/admin</td><td>200</td><td>2048</td></tr><tr><td>192.168.1.109</td><td>10/Feb/2025:19:02:45 +0000</td><td>DELETE</td><td>/activity</td><td>401</td><td>256</td></tr><tr><td>192.168.1.64</td><td>10/Feb/2025:19:05:12 +0000</td><td>PUT</td><td>/about</td><td>200</td><td>256</td></tr></tbody></table></div>"
      ]
     },
     "metadata": {
      "application/vnd.databricks.v1+output": {
       "addedWidgets": {},
       "aggData": [],
       "aggError": "",
       "aggOverflow": false,
       "aggSchema": [],
       "aggSeriesLimitReached": false,
       "aggType": "",
       "arguments": {},
       "columnCustomDisplayInfos": {},
       "data": [
        [
         "192.168.1.62",
         "10/Feb/2025:12:00:00 +0000",
         "PUT",
         "/checkout",
         "403",
         "768"
        ],
        [
         "192.168.1.92",
         "10/Feb/2025:12:04:24 +0000",
         "PUT",
         "/profile",
         "404",
         "1024"
        ],
        [
         "192.168.1.64",
         "10/Feb/2025:12:05:32 +0000",
         "DELETE",
         "/settings",
         "201",
         "256"
        ],
        [
         "192.168.1.83",
         "10/Feb/2025:12:08:31 +0000",
         "GET",
         "/location",
         "200",
         "1024"
        ],
        [
         "192.168.1.167",
         "10/Feb/2025:12:11:27 +0000",
         "PUT",
         "/user",
         "403",
         "2048"
        ],
        [
         "192.168.1.155",
         "10/Feb/2025:12:15:00 +0000",
         "GET",
         "/news",
         "200",
         "256"
        ],
        [
         "192.168.1.60",
         "10/Feb/2025:12:15:44 +0000",
         "PUT",
         "/settings",
         "503",
         "1024"
        ],
        [
         "192.168.1.217",
         "10/Feb/2025:12:17:09 +0000",
         "DELETE",
         "/services",
         "401",
         "3072"
        ],
        [
         "192.168.1.70",
         "10/Feb/2025:12:19:24 +0000",
         "POST",
         "/activity",
         "500",
         "2048"
        ],
        [
         "192.168.1.228",
         "10/Feb/2025:12:21:17 +0000",
         "GET",
         "/blog",
         "201",
         "256"
        ],
        [
         "192.168.1.108",
         "10/Feb/2025:12:25:20 +0000",
         "GET",
         "/profile",
         "403",
         "768"
        ],
        [
         "192.168.1.58",
         "10/Feb/2025:12:28:51 +0000",
         "GET",
         "/settings",
         "201",
         "128"
        ],
        [
         "192.168.1.44",
         "10/Feb/2025:12:31:47 +0000",
         "GET",
         "/contact",
         "404",
         "768"
        ],
        [
         "192.168.1.255",
         "10/Feb/2025:12:33:37 +0000",
         "POST",
         "/history",
         "503",
         "768"
        ],
        [
         "192.168.1.203",
         "10/Feb/2025:12:37:26 +0000",
         "DELETE",
         "/activity",
         "503",
         "256"
        ],
        [
         "192.168.1.231",
         "10/Feb/2025:12:42:19 +0000",
         "POST",
         "/user",
         "500",
         "3072"
        ],
        [
         "192.168.1.209",
         "10/Feb/2025:12:43:58 +0000",
         "POST",
         "/location",
         "403",
         "1024"
        ],
        [
         "192.168.1.53",
         "10/Feb/2025:12:45:35 +0000",
         "POST",
         "/dashboard",
         "503",
         "128"
        ],
        [
         "192.168.1.100",
         "10/Feb/2025:12:47:45 +0000",
         "PUT",
         "/logout",
         "403",
         "3072"
        ],
        [
         "192.168.1.101",
         "10/Feb/2025:12:52:38 +0000",
         "POST",
         "/cart",
         "500",
         "2048"
        ],
        [
         "192.168.1.243",
         "10/Feb/2025:12:55:31 +0000",
         "POST",
         "/logout",
         "403",
         "3072"
        ],
        [
         "192.168.1.95",
         "10/Feb/2025:13:00:12 +0000",
         "GET",
         "/terms",
         "404",
         "2048"
        ],
        [
         "192.168.1.177",
         "10/Feb/2025:13:02:05 +0000",
         "GET",
         "/dashboard",
         "403",
         "128"
        ],
        [
         "192.168.1.133",
         "10/Feb/2025:13:06:43 +0000",
         "DELETE",
         "/activity",
         "404",
         "1024"
        ],
        [
         "192.168.1.141",
         "10/Feb/2025:13:10:19 +0000",
         "POST",
         "/order",
         "201",
         "3072"
        ],
        [
         "192.168.1.29",
         "10/Feb/2025:13:13:04 +0000",
         "DELETE",
         "/profile",
         "404",
         "128"
        ],
        [
         "192.168.1.80",
         "10/Feb/2025:13:16:51 +0000",
         "PUT",
         "/products",
         "403",
         "256"
        ],
        [
         "192.168.1.177",
         "10/Feb/2025:13:20:10 +0000",
         "DELETE",
         "/privacy",
         "503",
         "768"
        ],
        [
         "192.168.1.69",
         "10/Feb/2025:13:23:40 +0000",
         "GET",
         "/history",
         "404",
         "256"
        ],
        [
         "192.168.1.78",
         "10/Feb/2025:13:24:36 +0000",
         "PUT",
         "/api/data",
         "401",
         "512"
        ],
        [
         "192.168.1.126",
         "10/Feb/2025:13:25:44 +0000",
         "GET",
         "/support",
         "500",
         "2048"
        ],
        [
         "192.168.1.89",
         "10/Feb/2025:13:30:16 +0000",
         "DELETE",
         "/user",
         "200",
         "512"
        ],
        [
         "192.168.1.98",
         "10/Feb/2025:13:33:52 +0000",
         "GET",
         "/admin",
         "200",
         "3072"
        ],
        [
         "192.168.1.77",
         "10/Feb/2025:13:37:33 +0000",
         "GET",
         "/report",
         "404",
         "128"
        ],
        [
         "192.168.1.254",
         "10/Feb/2025:13:41:22 +0000",
         "PUT",
         "/appointment",
         "201",
         "2048"
        ],
        [
         "192.168.1.78",
         "10/Feb/2025:13:44:37 +0000",
         "PUT",
         "/terms",
         "401",
         "512"
        ],
        [
         "192.168.1.85",
         "10/Feb/2025:13:45:12 +0000",
         "GET",
         "/profile",
         "403",
         "3072"
        ],
        [
         "192.168.1.93",
         "10/Feb/2025:13:45:42 +0000",
         "GET",
         "/schedule",
         "500",
         "3072"
        ],
        [
         "192.168.1.166",
         "10/Feb/2025:13:48:38 +0000",
         "DELETE",
         "/blog",
         "201",
         "512"
        ],
        [
         "192.168.1.68",
         "10/Feb/2025:13:53:13 +0000",
         "POST",
         "/blog",
         "503",
         "3072"
        ],
        [
         "192.168.1.198",
         "10/Feb/2025:13:57:28 +0000",
         "GET",
         "/profile",
         "401",
         "256"
        ],
        [
         "192.168.1.54",
         "10/Feb/2025:14:01:22 +0000",
         "DELETE",
         "/update",
         "401",
         "2048"
        ],
        [
         "192.168.1.248",
         "10/Feb/2025:14:03:40 +0000",
         "DELETE",
         "/schedule",
         "404",
         "2048"
        ],
        [
         "192.168.1.128",
         "10/Feb/2025:14:07:59 +0000",
         "PUT",
         "/appointment",
         "401",
         "2048"
        ],
        [
         "192.168.1.194",
         "10/Feb/2025:14:08:33 +0000",
         "GET",
         "/contact",
         "404",
         "3072"
        ],
        [
         "192.168.1.104",
         "10/Feb/2025:14:11:44 +0000",
         "DELETE",
         "/feedback",
         "503",
         "256"
        ],
        [
         "192.168.1.138",
         "10/Feb/2025:14:13:05 +0000",
         "PUT",
         "/complaint",
         "403",
         "1024"
        ],
        [
         "192.168.1.12",
         "10/Feb/2025:14:18:05 +0000",
         "DELETE",
         "/support",
         "403",
         "768"
        ],
        [
         "192.168.1.88",
         "10/Feb/2025:14:20:56 +0000",
         "DELETE",
         "/signup",
         "503",
         "3072"
        ],
        [
         "192.168.1.148",
         "10/Feb/2025:14:23:59 +0000",
         "POST",
         "/blog",
         "200",
         "256"
        ],
        [
         "192.168.1.166",
         "10/Feb/2025:14:25:29 +0000",
         "POST",
         "/checkout",
         "401",
         "2048"
        ],
        [
         "192.168.1.179",
         "10/Feb/2025:14:27:23 +0000",
         "DELETE",
         "/contact",
         "401",
         "256"
        ],
        [
         "192.168.1.241",
         "10/Feb/2025:14:30:16 +0000",
         "PUT",
         "/schedule",
         "500",
         "1024"
        ],
        [
         "192.168.1.196",
         "10/Feb/2025:14:34:52 +0000",
         "GET",
         "/report",
         "403",
         "3072"
        ],
        [
         "192.168.1.162",
         "10/Feb/2025:14:39:10 +0000",
         "DELETE",
         "/logout",
         "503",
         "128"
        ],
        [
         "192.168.1.109",
         "10/Feb/2025:14:40:52 +0000",
         "DELETE",
         "/update",
         "201",
         "128"
        ],
        [
         "192.168.1.209",
         "10/Feb/2025:14:45:35 +0000",
         "PUT",
         "/settings",
         "503",
         "1024"
        ],
        [
         "192.168.1.36",
         "10/Feb/2025:14:48:19 +0000",
         "GET",
         "/activity",
         "500",
         "2048"
        ],
        [
         "192.168.1.205",
         "10/Feb/2025:14:50:02 +0000",
         "GET",
         "/complaint",
         "403",
         "1024"
        ],
        [
         "192.168.1.45",
         "10/Feb/2025:14:51:55 +0000",
         "DELETE",
         "/order",
         "200",
         "768"
        ],
        [
         "192.168.1.150",
         "10/Feb/2025:14:56:40 +0000",
         "GET",
         "/signup",
         "500",
         "2048"
        ],
        [
         "192.168.1.43",
         "10/Feb/2025:15:00:45 +0000",
         "GET",
         "/api/data",
         "404",
         "3072"
        ],
        [
         "192.168.1.252",
         "10/Feb/2025:15:05:39 +0000",
         "POST",
         "/blog",
         "500",
         "768"
        ],
        [
         "192.168.1.98",
         "10/Feb/2025:15:07:57 +0000",
         "POST",
         "/login",
         "500",
         "512"
        ],
        [
         "192.168.1.159",
         "10/Feb/2025:15:08:53 +0000",
         "POST",
         "/history",
         "403",
         "768"
        ],
        [
         "192.168.1.136",
         "10/Feb/2025:15:13:25 +0000",
         "GET",
         "/user",
         "503",
         "2048"
        ],
        [
         "192.168.1.187",
         "10/Feb/2025:15:16:37 +0000",
         "POST",
         "/login",
         "503",
         "512"
        ],
        [
         "192.168.1.191",
         "10/Feb/2025:15:18:18 +0000",
         "POST",
         "/login",
         "404",
         "256"
        ],
        [
         "192.168.1.31",
         "10/Feb/2025:15:21:36 +0000",
         "DELETE",
         "/api/data",
         "201",
         "256"
        ],
        [
         "192.168.1.92",
         "10/Feb/2025:15:26:34 +0000",
         "GET",
         "/order",
         "403",
         "2048"
        ],
        [
         "192.168.1.220",
         "10/Feb/2025:15:28:31 +0000",
         "PUT",
         "/blog",
         "401",
         "256"
        ],
        [
         "192.168.1.169",
         "10/Feb/2025:15:29:56 +0000",
         "DELETE",
         "/support",
         "401",
         "128"
        ],
        [
         "192.168.1.78",
         "10/Feb/2025:15:30:26 +0000",
         "POST",
         "/logout",
         "404",
         "768"
        ],
        [
         "192.168.1.141",
         "10/Feb/2025:15:35:24 +0000",
         "PUT",
         "/reviews",
         "200",
         "512"
        ],
        [
         "192.168.1.151",
         "10/Feb/2025:15:38:11 +0000",
         "POST",
         "/faq",
         "403",
         "128"
        ],
        [
         "192.168.1.178",
         "10/Feb/2025:15:42:17 +0000",
         "POST",
         "/admin",
         "403",
         "3072"
        ],
        [
         "192.168.1.148",
         "10/Feb/2025:15:47:08 +0000",
         "DELETE",
         "/admin",
         "401",
         "128"
        ],
        [
         "192.168.1.128",
         "10/Feb/2025:15:49:11 +0000",
         "DELETE",
         "/login",
         "403",
         "1024"
        ],
        [
         "192.168.1.97",
         "10/Feb/2025:15:49:45 +0000",
         "DELETE",
         "/wishlist",
         "404",
         "768"
        ],
        [
         "192.168.1.141",
         "10/Feb/2025:15:52:39 +0000",
         "DELETE",
         "/blog",
         "404",
         "512"
        ],
        [
         "192.168.1.208",
         "10/Feb/2025:15:55:33 +0000",
         "PUT",
         "/complaint",
         "404",
         "3072"
        ],
        [
         "192.168.1.214",
         "10/Feb/2025:15:57:53 +0000",
         "PUT",
         "/blog",
         "200",
         "3072"
        ],
        [
         "192.168.1.66",
         "10/Feb/2025:16:01:32 +0000",
         "PUT",
         "/wishlist",
         "500",
         "1024"
        ],
        [
         "192.168.1.131",
         "10/Feb/2025:16:05:12 +0000",
         "GET",
         "/contact",
         "404",
         "3072"
        ],
        [
         "192.168.1.56",
         "10/Feb/2025:16:08:07 +0000",
         "PUT",
         "/privacy",
         "201",
         "1024"
        ],
        [
         "192.168.1.116",
         "10/Feb/2025:16:09:32 +0000",
         "PUT",
         "/settings",
         "401",
         "3072"
        ],
        [
         "192.168.1.168",
         "10/Feb/2025:16:11:52 +0000",
         "GET",
         "/signup",
         "503",
         "256"
        ],
        [
         "192.168.1.243",
         "10/Feb/2025:16:14:33 +0000",
         "POST",
         "/wishlist",
         "201",
         "256"
        ],
        [
         "192.168.1.160",
         "10/Feb/2025:16:19:12 +0000",
         "DELETE",
         "/admin",
         "503",
         "128"
        ],
        [
         "192.168.1.140",
         "10/Feb/2025:16:23:11 +0000",
         "PUT",
         "/account",
         "401",
         "768"
        ],
        [
         "192.168.1.210",
         "10/Feb/2025:16:25:26 +0000",
         "PUT",
         "/login",
         "401",
         "512"
        ],
        [
         "192.168.1.225",
         "10/Feb/2025:16:28:57 +0000",
         "GET",
         "/dashboard",
         "201",
         "3072"
        ],
        [
         "192.168.1.89",
         "10/Feb/2025:16:29:27 +0000",
         "PUT",
         "/history",
         "201",
         "2048"
        ],
        [
         "192.168.1.137",
         "10/Feb/2025:16:30:43 +0000",
         "GET",
         "/feedback",
         "403",
         "128"
        ],
        [
         "192.168.1.51",
         "10/Feb/2025:16:31:26 +0000",
         "DELETE",
         "/login",
         "201",
         "128"
        ],
        [
         "192.168.1.96",
         "10/Feb/2025:16:35:17 +0000",
         "DELETE",
         "/signup",
         "503",
         "2048"
        ],
        [
         "192.168.1.242",
         "10/Feb/2025:16:37:27 +0000",
         "GET",
         "/about",
         "500",
         "1024"
        ],
        [
         "192.168.1.230",
         "10/Feb/2025:16:39:34 +0000",
         "DELETE",
         "/dashboard",
         "200",
         "128"
        ],
        [
         "192.168.1.238",
         "10/Feb/2025:16:44:31 +0000",
         "POST",
         "/dashboard",
         "503",
         "512"
        ],
        [
         "192.168.1.44",
         "10/Feb/2025:16:46:45 +0000",
         "POST",
         "/report",
         "503",
         "2048"
        ],
        [
         "192.168.1.229",
         "10/Feb/2025:16:49:20 +0000",
         "POST",
         "/complaint",
         "401",
         "256"
        ],
        [
         "192.168.1.201",
         "10/Feb/2025:16:50:39 +0000",
         "PUT",
         "/logout",
         "503",
         "1024"
        ],
        [
         "192.168.1.235",
         "10/Feb/2025:16:54:01 +0000",
         "GET",
         "/wishlist",
         "404",
         "128"
        ],
        [
         "192.168.1.162",
         "10/Feb/2025:16:56:02 +0000",
         "PUT",
         "/support",
         "200",
         "768"
        ],
        [
         "192.168.1.208",
         "10/Feb/2025:16:59:38 +0000",
         "POST",
         "/admin",
         "503",
         "128"
        ],
        [
         "192.168.1.116",
         "10/Feb/2025:17:00:40 +0000",
         "DELETE",
         "/blog",
         "403",
         "256"
        ],
        [
         "192.168.1.41",
         "10/Feb/2025:17:05:36 +0000",
         "POST",
         "/schedule",
         "500",
         "128"
        ],
        [
         "192.168.1.9",
         "10/Feb/2025:17:07:49 +0000",
         "DELETE",
         "/reviews",
         "403",
         "128"
        ],
        [
         "192.168.1.11",
         "10/Feb/2025:17:08:40 +0000",
         "DELETE",
         "/dashboard",
         "404",
         "128"
        ],
        [
         "192.168.1.199",
         "10/Feb/2025:17:11:17 +0000",
         "POST",
         "/complaint",
         "200",
         "512"
        ],
        [
         "192.168.1.114",
         "10/Feb/2025:17:14:17 +0000",
         "POST",
         "/location",
         "200",
         "768"
        ],
        [
         "192.168.1.112",
         "10/Feb/2025:17:16:34 +0000",
         "PUT",
         "/blog",
         "401",
         "256"
        ],
        [
         "192.168.1.19",
         "10/Feb/2025:17:18:33 +0000",
         "PUT",
         "/checkout",
         "403",
         "256"
        ],
        [
         "192.168.1.155",
         "10/Feb/2025:17:21:19 +0000",
         "POST",
         "/api/data",
         "200",
         "2048"
        ],
        [
         "192.168.1.192",
         "10/Feb/2025:17:26:03 +0000",
         "DELETE",
         "/wishlist",
         "404",
         "256"
        ],
        [
         "192.168.1.158",
         "10/Feb/2025:17:30:57 +0000",
         "POST",
         "/update",
         "500",
         "512"
        ],
        [
         "192.168.1.245",
         "10/Feb/2025:17:32:43 +0000",
         "POST",
         "/admin",
         "200",
         "3072"
        ],
        [
         "192.168.1.239",
         "10/Feb/2025:17:35:11 +0000",
         "PUT",
         "/checkout",
         "200",
         "2048"
        ],
        [
         "192.168.1.192",
         "10/Feb/2025:17:38:57 +0000",
         "PUT",
         "/products",
         "503",
         "512"
        ],
        [
         "192.168.1.102",
         "10/Feb/2025:17:41:48 +0000",
         "PUT",
         "/admin",
         "401",
         "512"
        ],
        [
         "192.168.1.82",
         "10/Feb/2025:17:42:30 +0000",
         "DELETE",
         "/news",
         "201",
         "256"
        ],
        [
         "192.168.1.163",
         "10/Feb/2025:17:46:32 +0000",
         "DELETE",
         "/cart",
         "401",
         "1024"
        ],
        [
         "192.168.1.239",
         "10/Feb/2025:17:47:32 +0000",
         "PUT",
         "/appointment",
         "404",
         "256"
        ],
        [
         "192.168.1.70",
         "10/Feb/2025:17:48:33 +0000",
         "DELETE",
         "/account",
         "404",
         "256"
        ],
        [
         "192.168.1.74",
         "10/Feb/2025:17:50:37 +0000",
         "PUT",
         "/privacy",
         "401",
         "256"
        ],
        [
         "192.168.1.238",
         "10/Feb/2025:17:52:17 +0000",
         "DELETE",
         "/activity",
         "503",
         "128"
        ],
        [
         "192.168.1.104",
         "10/Feb/2025:17:54:10 +0000",
         "GET",
         "/report",
         "401",
         "2048"
        ],
        [
         "192.168.1.224",
         "10/Feb/2025:17:58:12 +0000",
         "POST",
         "/news",
         "403",
         "1024"
        ],
        [
         "192.168.1.45",
         "10/Feb/2025:18:00:20 +0000",
         "PUT",
         "/news",
         "200",
         "1024"
        ],
        [
         "192.168.1.75",
         "10/Feb/2025:18:03:12 +0000",
         "GET",
         "/update",
         "401",
         "128"
        ],
        [
         "192.168.1.35",
         "10/Feb/2025:18:06:15 +0000",
         "GET",
         "/location",
         "201",
         "1024"
        ],
        [
         "192.168.1.28",
         "10/Feb/2025:18:07:41 +0000",
         "DELETE",
         "/feedback",
         "503",
         "256"
        ],
        [
         "192.168.1.134",
         "10/Feb/2025:18:11:17 +0000",
         "GET",
         "/report",
         "404",
         "512"
        ],
        [
         "192.168.1.101",
         "10/Feb/2025:18:13:47 +0000",
         "PUT",
         "/support",
         "500",
         "768"
        ],
        [
         "192.168.1.172",
         "10/Feb/2025:18:14:22 +0000",
         "PUT",
         "/account",
         "500",
         "3072"
        ],
        [
         "192.168.1.84",
         "10/Feb/2025:18:18:57 +0000",
         "POST",
         "/cart",
         "500",
         "2048"
        ],
        [
         "192.168.1.164",
         "10/Feb/2025:18:23:31 +0000",
         "DELETE",
         "/contact",
         "404",
         "128"
        ],
        [
         "192.168.1.167",
         "10/Feb/2025:18:24:22 +0000",
         "GET",
         "/terms",
         "403",
         "3072"
        ],
        [
         "192.168.1.147",
         "10/Feb/2025:18:25:10 +0000",
         "POST",
         "/support",
         "500",
         "1024"
        ],
        [
         "192.168.1.50",
         "10/Feb/2025:18:27:46 +0000",
         "PUT",
         "/activity",
         "201",
         "2048"
        ],
        [
         "192.168.1.247",
         "10/Feb/2025:18:32:19 +0000",
         "PUT",
         "/order",
         "401",
         "256"
        ],
        [
         "192.168.1.112",
         "10/Feb/2025:18:36:49 +0000",
         "PUT",
         "/signup",
         "401",
         "2048"
        ],
        [
         "192.168.1.251",
         "10/Feb/2025:18:41:02 +0000",
         "POST",
         "/login",
         "503",
         "1024"
        ],
        [
         "192.168.1.230",
         "10/Feb/2025:18:44:14 +0000",
         "GET",
         "/about",
         "503",
         "768"
        ],
        [
         "192.168.1.33",
         "10/Feb/2025:18:49:09 +0000",
         "PUT",
         "/blog",
         "401",
         "512"
        ],
        [
         "192.168.1.189",
         "10/Feb/2025:18:51:02 +0000",
         "GET",
         "/home",
         "503",
         "3072"
        ],
        [
         "192.168.1.193",
         "10/Feb/2025:18:55:22 +0000",
         "DELETE",
         "/cart",
         "200",
         "512"
        ],
        [
         "192.168.1.215",
         "10/Feb/2025:18:58:38 +0000",
         "GET",
         "/admin",
         "200",
         "2048"
        ],
        [
         "192.168.1.109",
         "10/Feb/2025:19:02:45 +0000",
         "DELETE",
         "/activity",
         "401",
         "256"
        ],
        [
         "192.168.1.64",
         "10/Feb/2025:19:05:12 +0000",
         "PUT",
         "/about",
         "200",
         "256"
        ]
       ],
       "datasetInfos": [],
       "dbfsResultPath": null,
       "isJsonSchema": true,
       "metadata": {},
       "overflow": false,
       "plotOptions": {
        "customPlotOptions": {},
        "displayType": "table",
        "pivotAggregation": null,
        "pivotColumns": null,
        "xColumns": null,
        "yColumns": null
       },
       "removedWidgets": [],
       "schema": [
        {
         "metadata": "{}",
         "name": "IP",
         "type": "\"string\""
        },
        {
         "metadata": "{}",
         "name": "Timestamp",
         "type": "\"string\""
        },
        {
         "metadata": "{}",
         "name": "Method",
         "type": "\"string\""
        },
        {
         "metadata": "{}",
         "name": "URL",
         "type": "\"string\""
        },
        {
         "metadata": "{}",
         "name": "Status",
         "type": "\"string\""
        },
        {
         "metadata": "{}",
         "name": "Size",
         "type": "\"string\""
        }
       ],
       "type": "table"
      }
     },
     "output_type": "display_data"
    }
   ],
   "source": [
    "# File location and type\n",
    "file_location = \"/FileStore/tables/server_logs_large.csv\"\n",
    "file_type = \"csv\"\n",
    "\n",
    "# CSV options\n",
    "infer_schema = \"false\"\n",
    "first_row_is_header = \"true\"\n",
    "delimiter = \",\"\n",
    "\n",
    "# The applied options are for CSV files. For other file types, these will be ignored.\n",
    "df = spark.read.format(file_type) \\\n",
    "  .option(\"inferSchema\", infer_schema) \\\n",
    "  .option(\"header\", first_row_is_header) \\\n",
    "  .option(\"sep\", delimiter) \\\n",
    "  .load(file_location)\n",
    "\n",
    "display(df)"
   ]
  },
  {
   "cell_type": "code",
   "execution_count": 0,
   "metadata": {
    "application/vnd.databricks.v1+cell": {
     "cellMetadata": {
      "byteLimit": 2048000,
      "rowLimit": 10000
     },
     "inputWidgets": {},
     "nuid": "48d04103-4ce1-4ccc-80ef-6448c5e2f3f9",
     "showTitle": false,
     "tableResultSettingsMap": {},
     "title": ""
    }
   },
   "outputs": [
    {
     "output_type": "display_data",
     "data": {
      "text/html": [
       "<style scoped>\n",
       "  .table-result-container {\n",
       "    max-height: 300px;\n",
       "    overflow: auto;\n",
       "  }\n",
       "  table, th, td {\n",
       "    border: 1px solid black;\n",
       "    border-collapse: collapse;\n",
       "  }\n",
       "  th, td {\n",
       "    padding: 5px;\n",
       "  }\n",
       "  th {\n",
       "    text-align: left;\n",
       "  }\n",
       "</style><div class='table-result-container'><table class='table-result'><thead style='background-color: white'><tr><th>IP</th><th>Timestamp</th><th>Method</th><th>URL</th><th>Status</th><th>Size</th></tr></thead><tbody><tr><td>192.168.1.62</td><td>10/Feb/2025:12:00:00 +0000</td><td>PUT</td><td>/checkout</td><td>403</td><td>768</td></tr><tr><td>192.168.1.92</td><td>10/Feb/2025:12:04:24 +0000</td><td>PUT</td><td>/profile</td><td>404</td><td>1024</td></tr><tr><td>192.168.1.64</td><td>10/Feb/2025:12:05:32 +0000</td><td>DELETE</td><td>/settings</td><td>201</td><td>256</td></tr><tr><td>192.168.1.83</td><td>10/Feb/2025:12:08:31 +0000</td><td>GET</td><td>/location</td><td>200</td><td>1024</td></tr><tr><td>192.168.1.167</td><td>10/Feb/2025:12:11:27 +0000</td><td>PUT</td><td>/user</td><td>403</td><td>2048</td></tr><tr><td>192.168.1.155</td><td>10/Feb/2025:12:15:00 +0000</td><td>GET</td><td>/news</td><td>200</td><td>256</td></tr><tr><td>192.168.1.60</td><td>10/Feb/2025:12:15:44 +0000</td><td>PUT</td><td>/settings</td><td>503</td><td>1024</td></tr><tr><td>192.168.1.217</td><td>10/Feb/2025:12:17:09 +0000</td><td>DELETE</td><td>/services</td><td>401</td><td>3072</td></tr><tr><td>192.168.1.70</td><td>10/Feb/2025:12:19:24 +0000</td><td>POST</td><td>/activity</td><td>500</td><td>2048</td></tr><tr><td>192.168.1.228</td><td>10/Feb/2025:12:21:17 +0000</td><td>GET</td><td>/blog</td><td>201</td><td>256</td></tr><tr><td>192.168.1.108</td><td>10/Feb/2025:12:25:20 +0000</td><td>GET</td><td>/profile</td><td>403</td><td>768</td></tr><tr><td>192.168.1.58</td><td>10/Feb/2025:12:28:51 +0000</td><td>GET</td><td>/settings</td><td>201</td><td>128</td></tr><tr><td>192.168.1.44</td><td>10/Feb/2025:12:31:47 +0000</td><td>GET</td><td>/contact</td><td>404</td><td>768</td></tr><tr><td>192.168.1.255</td><td>10/Feb/2025:12:33:37 +0000</td><td>POST</td><td>/history</td><td>503</td><td>768</td></tr><tr><td>192.168.1.203</td><td>10/Feb/2025:12:37:26 +0000</td><td>DELETE</td><td>/activity</td><td>503</td><td>256</td></tr><tr><td>192.168.1.231</td><td>10/Feb/2025:12:42:19 +0000</td><td>POST</td><td>/user</td><td>500</td><td>3072</td></tr><tr><td>192.168.1.209</td><td>10/Feb/2025:12:43:58 +0000</td><td>POST</td><td>/location</td><td>403</td><td>1024</td></tr><tr><td>192.168.1.53</td><td>10/Feb/2025:12:45:35 +0000</td><td>POST</td><td>/dashboard</td><td>503</td><td>128</td></tr><tr><td>192.168.1.100</td><td>10/Feb/2025:12:47:45 +0000</td><td>PUT</td><td>/logout</td><td>403</td><td>3072</td></tr><tr><td>192.168.1.101</td><td>10/Feb/2025:12:52:38 +0000</td><td>POST</td><td>/cart</td><td>500</td><td>2048</td></tr><tr><td>192.168.1.243</td><td>10/Feb/2025:12:55:31 +0000</td><td>POST</td><td>/logout</td><td>403</td><td>3072</td></tr><tr><td>192.168.1.95</td><td>10/Feb/2025:13:00:12 +0000</td><td>GET</td><td>/terms</td><td>404</td><td>2048</td></tr><tr><td>192.168.1.177</td><td>10/Feb/2025:13:02:05 +0000</td><td>GET</td><td>/dashboard</td><td>403</td><td>128</td></tr><tr><td>192.168.1.133</td><td>10/Feb/2025:13:06:43 +0000</td><td>DELETE</td><td>/activity</td><td>404</td><td>1024</td></tr><tr><td>192.168.1.141</td><td>10/Feb/2025:13:10:19 +0000</td><td>POST</td><td>/order</td><td>201</td><td>3072</td></tr><tr><td>192.168.1.29</td><td>10/Feb/2025:13:13:04 +0000</td><td>DELETE</td><td>/profile</td><td>404</td><td>128</td></tr><tr><td>192.168.1.80</td><td>10/Feb/2025:13:16:51 +0000</td><td>PUT</td><td>/products</td><td>403</td><td>256</td></tr><tr><td>192.168.1.177</td><td>10/Feb/2025:13:20:10 +0000</td><td>DELETE</td><td>/privacy</td><td>503</td><td>768</td></tr><tr><td>192.168.1.69</td><td>10/Feb/2025:13:23:40 +0000</td><td>GET</td><td>/history</td><td>404</td><td>256</td></tr><tr><td>192.168.1.78</td><td>10/Feb/2025:13:24:36 +0000</td><td>PUT</td><td>/api/data</td><td>401</td><td>512</td></tr><tr><td>192.168.1.126</td><td>10/Feb/2025:13:25:44 +0000</td><td>GET</td><td>/support</td><td>500</td><td>2048</td></tr><tr><td>192.168.1.89</td><td>10/Feb/2025:13:30:16 +0000</td><td>DELETE</td><td>/user</td><td>200</td><td>512</td></tr><tr><td>192.168.1.98</td><td>10/Feb/2025:13:33:52 +0000</td><td>GET</td><td>/admin</td><td>200</td><td>3072</td></tr><tr><td>192.168.1.77</td><td>10/Feb/2025:13:37:33 +0000</td><td>GET</td><td>/report</td><td>404</td><td>128</td></tr><tr><td>192.168.1.254</td><td>10/Feb/2025:13:41:22 +0000</td><td>PUT</td><td>/appointment</td><td>201</td><td>2048</td></tr><tr><td>192.168.1.78</td><td>10/Feb/2025:13:44:37 +0000</td><td>PUT</td><td>/terms</td><td>401</td><td>512</td></tr><tr><td>192.168.1.85</td><td>10/Feb/2025:13:45:12 +0000</td><td>GET</td><td>/profile</td><td>403</td><td>3072</td></tr><tr><td>192.168.1.93</td><td>10/Feb/2025:13:45:42 +0000</td><td>GET</td><td>/schedule</td><td>500</td><td>3072</td></tr><tr><td>192.168.1.166</td><td>10/Feb/2025:13:48:38 +0000</td><td>DELETE</td><td>/blog</td><td>201</td><td>512</td></tr><tr><td>192.168.1.68</td><td>10/Feb/2025:13:53:13 +0000</td><td>POST</td><td>/blog</td><td>503</td><td>3072</td></tr><tr><td>192.168.1.198</td><td>10/Feb/2025:13:57:28 +0000</td><td>GET</td><td>/profile</td><td>401</td><td>256</td></tr><tr><td>192.168.1.54</td><td>10/Feb/2025:14:01:22 +0000</td><td>DELETE</td><td>/update</td><td>401</td><td>2048</td></tr><tr><td>192.168.1.248</td><td>10/Feb/2025:14:03:40 +0000</td><td>DELETE</td><td>/schedule</td><td>404</td><td>2048</td></tr><tr><td>192.168.1.128</td><td>10/Feb/2025:14:07:59 +0000</td><td>PUT</td><td>/appointment</td><td>401</td><td>2048</td></tr><tr><td>192.168.1.194</td><td>10/Feb/2025:14:08:33 +0000</td><td>GET</td><td>/contact</td><td>404</td><td>3072</td></tr><tr><td>192.168.1.104</td><td>10/Feb/2025:14:11:44 +0000</td><td>DELETE</td><td>/feedback</td><td>503</td><td>256</td></tr><tr><td>192.168.1.138</td><td>10/Feb/2025:14:13:05 +0000</td><td>PUT</td><td>/complaint</td><td>403</td><td>1024</td></tr><tr><td>192.168.1.12</td><td>10/Feb/2025:14:18:05 +0000</td><td>DELETE</td><td>/support</td><td>403</td><td>768</td></tr><tr><td>192.168.1.88</td><td>10/Feb/2025:14:20:56 +0000</td><td>DELETE</td><td>/signup</td><td>503</td><td>3072</td></tr><tr><td>192.168.1.148</td><td>10/Feb/2025:14:23:59 +0000</td><td>POST</td><td>/blog</td><td>200</td><td>256</td></tr><tr><td>192.168.1.166</td><td>10/Feb/2025:14:25:29 +0000</td><td>POST</td><td>/checkout</td><td>401</td><td>2048</td></tr><tr><td>192.168.1.179</td><td>10/Feb/2025:14:27:23 +0000</td><td>DELETE</td><td>/contact</td><td>401</td><td>256</td></tr><tr><td>192.168.1.241</td><td>10/Feb/2025:14:30:16 +0000</td><td>PUT</td><td>/schedule</td><td>500</td><td>1024</td></tr><tr><td>192.168.1.196</td><td>10/Feb/2025:14:34:52 +0000</td><td>GET</td><td>/report</td><td>403</td><td>3072</td></tr><tr><td>192.168.1.162</td><td>10/Feb/2025:14:39:10 +0000</td><td>DELETE</td><td>/logout</td><td>503</td><td>128</td></tr><tr><td>192.168.1.109</td><td>10/Feb/2025:14:40:52 +0000</td><td>DELETE</td><td>/update</td><td>201</td><td>128</td></tr><tr><td>192.168.1.209</td><td>10/Feb/2025:14:45:35 +0000</td><td>PUT</td><td>/settings</td><td>503</td><td>1024</td></tr><tr><td>192.168.1.36</td><td>10/Feb/2025:14:48:19 +0000</td><td>GET</td><td>/activity</td><td>500</td><td>2048</td></tr><tr><td>192.168.1.205</td><td>10/Feb/2025:14:50:02 +0000</td><td>GET</td><td>/complaint</td><td>403</td><td>1024</td></tr><tr><td>192.168.1.45</td><td>10/Feb/2025:14:51:55 +0000</td><td>DELETE</td><td>/order</td><td>200</td><td>768</td></tr><tr><td>192.168.1.150</td><td>10/Feb/2025:14:56:40 +0000</td><td>GET</td><td>/signup</td><td>500</td><td>2048</td></tr><tr><td>192.168.1.43</td><td>10/Feb/2025:15:00:45 +0000</td><td>GET</td><td>/api/data</td><td>404</td><td>3072</td></tr><tr><td>192.168.1.252</td><td>10/Feb/2025:15:05:39 +0000</td><td>POST</td><td>/blog</td><td>500</td><td>768</td></tr><tr><td>192.168.1.98</td><td>10/Feb/2025:15:07:57 +0000</td><td>POST</td><td>/login</td><td>500</td><td>512</td></tr><tr><td>192.168.1.159</td><td>10/Feb/2025:15:08:53 +0000</td><td>POST</td><td>/history</td><td>403</td><td>768</td></tr><tr><td>192.168.1.136</td><td>10/Feb/2025:15:13:25 +0000</td><td>GET</td><td>/user</td><td>503</td><td>2048</td></tr><tr><td>192.168.1.187</td><td>10/Feb/2025:15:16:37 +0000</td><td>POST</td><td>/login</td><td>503</td><td>512</td></tr><tr><td>192.168.1.191</td><td>10/Feb/2025:15:18:18 +0000</td><td>POST</td><td>/login</td><td>404</td><td>256</td></tr><tr><td>192.168.1.31</td><td>10/Feb/2025:15:21:36 +0000</td><td>DELETE</td><td>/api/data</td><td>201</td><td>256</td></tr><tr><td>192.168.1.92</td><td>10/Feb/2025:15:26:34 +0000</td><td>GET</td><td>/order</td><td>403</td><td>2048</td></tr><tr><td>192.168.1.220</td><td>10/Feb/2025:15:28:31 +0000</td><td>PUT</td><td>/blog</td><td>401</td><td>256</td></tr><tr><td>192.168.1.169</td><td>10/Feb/2025:15:29:56 +0000</td><td>DELETE</td><td>/support</td><td>401</td><td>128</td></tr><tr><td>192.168.1.78</td><td>10/Feb/2025:15:30:26 +0000</td><td>POST</td><td>/logout</td><td>404</td><td>768</td></tr><tr><td>192.168.1.141</td><td>10/Feb/2025:15:35:24 +0000</td><td>PUT</td><td>/reviews</td><td>200</td><td>512</td></tr><tr><td>192.168.1.151</td><td>10/Feb/2025:15:38:11 +0000</td><td>POST</td><td>/faq</td><td>403</td><td>128</td></tr><tr><td>192.168.1.178</td><td>10/Feb/2025:15:42:17 +0000</td><td>POST</td><td>/admin</td><td>403</td><td>3072</td></tr><tr><td>192.168.1.148</td><td>10/Feb/2025:15:47:08 +0000</td><td>DELETE</td><td>/admin</td><td>401</td><td>128</td></tr><tr><td>192.168.1.128</td><td>10/Feb/2025:15:49:11 +0000</td><td>DELETE</td><td>/login</td><td>403</td><td>1024</td></tr><tr><td>192.168.1.97</td><td>10/Feb/2025:15:49:45 +0000</td><td>DELETE</td><td>/wishlist</td><td>404</td><td>768</td></tr><tr><td>192.168.1.141</td><td>10/Feb/2025:15:52:39 +0000</td><td>DELETE</td><td>/blog</td><td>404</td><td>512</td></tr><tr><td>192.168.1.208</td><td>10/Feb/2025:15:55:33 +0000</td><td>PUT</td><td>/complaint</td><td>404</td><td>3072</td></tr><tr><td>192.168.1.214</td><td>10/Feb/2025:15:57:53 +0000</td><td>PUT</td><td>/blog</td><td>200</td><td>3072</td></tr><tr><td>192.168.1.66</td><td>10/Feb/2025:16:01:32 +0000</td><td>PUT</td><td>/wishlist</td><td>500</td><td>1024</td></tr><tr><td>192.168.1.131</td><td>10/Feb/2025:16:05:12 +0000</td><td>GET</td><td>/contact</td><td>404</td><td>3072</td></tr><tr><td>192.168.1.56</td><td>10/Feb/2025:16:08:07 +0000</td><td>PUT</td><td>/privacy</td><td>201</td><td>1024</td></tr><tr><td>192.168.1.116</td><td>10/Feb/2025:16:09:32 +0000</td><td>PUT</td><td>/settings</td><td>401</td><td>3072</td></tr><tr><td>192.168.1.168</td><td>10/Feb/2025:16:11:52 +0000</td><td>GET</td><td>/signup</td><td>503</td><td>256</td></tr><tr><td>192.168.1.243</td><td>10/Feb/2025:16:14:33 +0000</td><td>POST</td><td>/wishlist</td><td>201</td><td>256</td></tr><tr><td>192.168.1.160</td><td>10/Feb/2025:16:19:12 +0000</td><td>DELETE</td><td>/admin</td><td>503</td><td>128</td></tr><tr><td>192.168.1.140</td><td>10/Feb/2025:16:23:11 +0000</td><td>PUT</td><td>/account</td><td>401</td><td>768</td></tr><tr><td>192.168.1.210</td><td>10/Feb/2025:16:25:26 +0000</td><td>PUT</td><td>/login</td><td>401</td><td>512</td></tr><tr><td>192.168.1.225</td><td>10/Feb/2025:16:28:57 +0000</td><td>GET</td><td>/dashboard</td><td>201</td><td>3072</td></tr><tr><td>192.168.1.89</td><td>10/Feb/2025:16:29:27 +0000</td><td>PUT</td><td>/history</td><td>201</td><td>2048</td></tr><tr><td>192.168.1.137</td><td>10/Feb/2025:16:30:43 +0000</td><td>GET</td><td>/feedback</td><td>403</td><td>128</td></tr><tr><td>192.168.1.51</td><td>10/Feb/2025:16:31:26 +0000</td><td>DELETE</td><td>/login</td><td>201</td><td>128</td></tr><tr><td>192.168.1.96</td><td>10/Feb/2025:16:35:17 +0000</td><td>DELETE</td><td>/signup</td><td>503</td><td>2048</td></tr><tr><td>192.168.1.242</td><td>10/Feb/2025:16:37:27 +0000</td><td>GET</td><td>/about</td><td>500</td><td>1024</td></tr><tr><td>192.168.1.230</td><td>10/Feb/2025:16:39:34 +0000</td><td>DELETE</td><td>/dashboard</td><td>200</td><td>128</td></tr><tr><td>192.168.1.238</td><td>10/Feb/2025:16:44:31 +0000</td><td>POST</td><td>/dashboard</td><td>503</td><td>512</td></tr><tr><td>192.168.1.44</td><td>10/Feb/2025:16:46:45 +0000</td><td>POST</td><td>/report</td><td>503</td><td>2048</td></tr><tr><td>192.168.1.229</td><td>10/Feb/2025:16:49:20 +0000</td><td>POST</td><td>/complaint</td><td>401</td><td>256</td></tr><tr><td>192.168.1.201</td><td>10/Feb/2025:16:50:39 +0000</td><td>PUT</td><td>/logout</td><td>503</td><td>1024</td></tr><tr><td>192.168.1.235</td><td>10/Feb/2025:16:54:01 +0000</td><td>GET</td><td>/wishlist</td><td>404</td><td>128</td></tr><tr><td>192.168.1.162</td><td>10/Feb/2025:16:56:02 +0000</td><td>PUT</td><td>/support</td><td>200</td><td>768</td></tr><tr><td>192.168.1.208</td><td>10/Feb/2025:16:59:38 +0000</td><td>POST</td><td>/admin</td><td>503</td><td>128</td></tr><tr><td>192.168.1.116</td><td>10/Feb/2025:17:00:40 +0000</td><td>DELETE</td><td>/blog</td><td>403</td><td>256</td></tr><tr><td>192.168.1.41</td><td>10/Feb/2025:17:05:36 +0000</td><td>POST</td><td>/schedule</td><td>500</td><td>128</td></tr><tr><td>192.168.1.9</td><td>10/Feb/2025:17:07:49 +0000</td><td>DELETE</td><td>/reviews</td><td>403</td><td>128</td></tr><tr><td>192.168.1.11</td><td>10/Feb/2025:17:08:40 +0000</td><td>DELETE</td><td>/dashboard</td><td>404</td><td>128</td></tr><tr><td>192.168.1.199</td><td>10/Feb/2025:17:11:17 +0000</td><td>POST</td><td>/complaint</td><td>200</td><td>512</td></tr><tr><td>192.168.1.114</td><td>10/Feb/2025:17:14:17 +0000</td><td>POST</td><td>/location</td><td>200</td><td>768</td></tr><tr><td>192.168.1.112</td><td>10/Feb/2025:17:16:34 +0000</td><td>PUT</td><td>/blog</td><td>401</td><td>256</td></tr><tr><td>192.168.1.19</td><td>10/Feb/2025:17:18:33 +0000</td><td>PUT</td><td>/checkout</td><td>403</td><td>256</td></tr><tr><td>192.168.1.155</td><td>10/Feb/2025:17:21:19 +0000</td><td>POST</td><td>/api/data</td><td>200</td><td>2048</td></tr><tr><td>192.168.1.192</td><td>10/Feb/2025:17:26:03 +0000</td><td>DELETE</td><td>/wishlist</td><td>404</td><td>256</td></tr><tr><td>192.168.1.158</td><td>10/Feb/2025:17:30:57 +0000</td><td>POST</td><td>/update</td><td>500</td><td>512</td></tr><tr><td>192.168.1.245</td><td>10/Feb/2025:17:32:43 +0000</td><td>POST</td><td>/admin</td><td>200</td><td>3072</td></tr><tr><td>192.168.1.239</td><td>10/Feb/2025:17:35:11 +0000</td><td>PUT</td><td>/checkout</td><td>200</td><td>2048</td></tr><tr><td>192.168.1.192</td><td>10/Feb/2025:17:38:57 +0000</td><td>PUT</td><td>/products</td><td>503</td><td>512</td></tr><tr><td>192.168.1.102</td><td>10/Feb/2025:17:41:48 +0000</td><td>PUT</td><td>/admin</td><td>401</td><td>512</td></tr><tr><td>192.168.1.82</td><td>10/Feb/2025:17:42:30 +0000</td><td>DELETE</td><td>/news</td><td>201</td><td>256</td></tr><tr><td>192.168.1.163</td><td>10/Feb/2025:17:46:32 +0000</td><td>DELETE</td><td>/cart</td><td>401</td><td>1024</td></tr><tr><td>192.168.1.239</td><td>10/Feb/2025:17:47:32 +0000</td><td>PUT</td><td>/appointment</td><td>404</td><td>256</td></tr><tr><td>192.168.1.70</td><td>10/Feb/2025:17:48:33 +0000</td><td>DELETE</td><td>/account</td><td>404</td><td>256</td></tr><tr><td>192.168.1.74</td><td>10/Feb/2025:17:50:37 +0000</td><td>PUT</td><td>/privacy</td><td>401</td><td>256</td></tr><tr><td>192.168.1.238</td><td>10/Feb/2025:17:52:17 +0000</td><td>DELETE</td><td>/activity</td><td>503</td><td>128</td></tr><tr><td>192.168.1.104</td><td>10/Feb/2025:17:54:10 +0000</td><td>GET</td><td>/report</td><td>401</td><td>2048</td></tr><tr><td>192.168.1.224</td><td>10/Feb/2025:17:58:12 +0000</td><td>POST</td><td>/news</td><td>403</td><td>1024</td></tr><tr><td>192.168.1.45</td><td>10/Feb/2025:18:00:20 +0000</td><td>PUT</td><td>/news</td><td>200</td><td>1024</td></tr><tr><td>192.168.1.75</td><td>10/Feb/2025:18:03:12 +0000</td><td>GET</td><td>/update</td><td>401</td><td>128</td></tr><tr><td>192.168.1.35</td><td>10/Feb/2025:18:06:15 +0000</td><td>GET</td><td>/location</td><td>201</td><td>1024</td></tr><tr><td>192.168.1.28</td><td>10/Feb/2025:18:07:41 +0000</td><td>DELETE</td><td>/feedback</td><td>503</td><td>256</td></tr><tr><td>192.168.1.134</td><td>10/Feb/2025:18:11:17 +0000</td><td>GET</td><td>/report</td><td>404</td><td>512</td></tr><tr><td>192.168.1.101</td><td>10/Feb/2025:18:13:47 +0000</td><td>PUT</td><td>/support</td><td>500</td><td>768</td></tr><tr><td>192.168.1.172</td><td>10/Feb/2025:18:14:22 +0000</td><td>PUT</td><td>/account</td><td>500</td><td>3072</td></tr><tr><td>192.168.1.84</td><td>10/Feb/2025:18:18:57 +0000</td><td>POST</td><td>/cart</td><td>500</td><td>2048</td></tr><tr><td>192.168.1.164</td><td>10/Feb/2025:18:23:31 +0000</td><td>DELETE</td><td>/contact</td><td>404</td><td>128</td></tr><tr><td>192.168.1.167</td><td>10/Feb/2025:18:24:22 +0000</td><td>GET</td><td>/terms</td><td>403</td><td>3072</td></tr><tr><td>192.168.1.147</td><td>10/Feb/2025:18:25:10 +0000</td><td>POST</td><td>/support</td><td>500</td><td>1024</td></tr><tr><td>192.168.1.50</td><td>10/Feb/2025:18:27:46 +0000</td><td>PUT</td><td>/activity</td><td>201</td><td>2048</td></tr><tr><td>192.168.1.247</td><td>10/Feb/2025:18:32:19 +0000</td><td>PUT</td><td>/order</td><td>401</td><td>256</td></tr><tr><td>192.168.1.112</td><td>10/Feb/2025:18:36:49 +0000</td><td>PUT</td><td>/signup</td><td>401</td><td>2048</td></tr><tr><td>192.168.1.251</td><td>10/Feb/2025:18:41:02 +0000</td><td>POST</td><td>/login</td><td>503</td><td>1024</td></tr><tr><td>192.168.1.230</td><td>10/Feb/2025:18:44:14 +0000</td><td>GET</td><td>/about</td><td>503</td><td>768</td></tr><tr><td>192.168.1.33</td><td>10/Feb/2025:18:49:09 +0000</td><td>PUT</td><td>/blog</td><td>401</td><td>512</td></tr><tr><td>192.168.1.189</td><td>10/Feb/2025:18:51:02 +0000</td><td>GET</td><td>/home</td><td>503</td><td>3072</td></tr><tr><td>192.168.1.193</td><td>10/Feb/2025:18:55:22 +0000</td><td>DELETE</td><td>/cart</td><td>200</td><td>512</td></tr><tr><td>192.168.1.215</td><td>10/Feb/2025:18:58:38 +0000</td><td>GET</td><td>/admin</td><td>200</td><td>2048</td></tr><tr><td>192.168.1.109</td><td>10/Feb/2025:19:02:45 +0000</td><td>DELETE</td><td>/activity</td><td>401</td><td>256</td></tr><tr><td>192.168.1.64</td><td>10/Feb/2025:19:05:12 +0000</td><td>PUT</td><td>/about</td><td>200</td><td>256</td></tr></tbody></table></div>"
      ]
     },
     "metadata": {
      "application/vnd.databricks.v1+output": {
       "addedWidgets": {},
       "aggData": [],
       "aggError": "",
       "aggOverflow": false,
       "aggSchema": [],
       "aggSeriesLimitReached": false,
       "aggType": "",
       "arguments": {},
       "columnCustomDisplayInfos": {},
       "data": [
        [
         "192.168.1.62",
         "10/Feb/2025:12:00:00 +0000",
         "PUT",
         "/checkout",
         "403",
         "768"
        ],
        [
         "192.168.1.92",
         "10/Feb/2025:12:04:24 +0000",
         "PUT",
         "/profile",
         "404",
         "1024"
        ],
        [
         "192.168.1.64",
         "10/Feb/2025:12:05:32 +0000",
         "DELETE",
         "/settings",
         "201",
         "256"
        ],
        [
         "192.168.1.83",
         "10/Feb/2025:12:08:31 +0000",
         "GET",
         "/location",
         "200",
         "1024"
        ],
        [
         "192.168.1.167",
         "10/Feb/2025:12:11:27 +0000",
         "PUT",
         "/user",
         "403",
         "2048"
        ],
        [
         "192.168.1.155",
         "10/Feb/2025:12:15:00 +0000",
         "GET",
         "/news",
         "200",
         "256"
        ],
        [
         "192.168.1.60",
         "10/Feb/2025:12:15:44 +0000",
         "PUT",
         "/settings",
         "503",
         "1024"
        ],
        [
         "192.168.1.217",
         "10/Feb/2025:12:17:09 +0000",
         "DELETE",
         "/services",
         "401",
         "3072"
        ],
        [
         "192.168.1.70",
         "10/Feb/2025:12:19:24 +0000",
         "POST",
         "/activity",
         "500",
         "2048"
        ],
        [
         "192.168.1.228",
         "10/Feb/2025:12:21:17 +0000",
         "GET",
         "/blog",
         "201",
         "256"
        ],
        [
         "192.168.1.108",
         "10/Feb/2025:12:25:20 +0000",
         "GET",
         "/profile",
         "403",
         "768"
        ],
        [
         "192.168.1.58",
         "10/Feb/2025:12:28:51 +0000",
         "GET",
         "/settings",
         "201",
         "128"
        ],
        [
         "192.168.1.44",
         "10/Feb/2025:12:31:47 +0000",
         "GET",
         "/contact",
         "404",
         "768"
        ],
        [
         "192.168.1.255",
         "10/Feb/2025:12:33:37 +0000",
         "POST",
         "/history",
         "503",
         "768"
        ],
        [
         "192.168.1.203",
         "10/Feb/2025:12:37:26 +0000",
         "DELETE",
         "/activity",
         "503",
         "256"
        ],
        [
         "192.168.1.231",
         "10/Feb/2025:12:42:19 +0000",
         "POST",
         "/user",
         "500",
         "3072"
        ],
        [
         "192.168.1.209",
         "10/Feb/2025:12:43:58 +0000",
         "POST",
         "/location",
         "403",
         "1024"
        ],
        [
         "192.168.1.53",
         "10/Feb/2025:12:45:35 +0000",
         "POST",
         "/dashboard",
         "503",
         "128"
        ],
        [
         "192.168.1.100",
         "10/Feb/2025:12:47:45 +0000",
         "PUT",
         "/logout",
         "403",
         "3072"
        ],
        [
         "192.168.1.101",
         "10/Feb/2025:12:52:38 +0000",
         "POST",
         "/cart",
         "500",
         "2048"
        ],
        [
         "192.168.1.243",
         "10/Feb/2025:12:55:31 +0000",
         "POST",
         "/logout",
         "403",
         "3072"
        ],
        [
         "192.168.1.95",
         "10/Feb/2025:13:00:12 +0000",
         "GET",
         "/terms",
         "404",
         "2048"
        ],
        [
         "192.168.1.177",
         "10/Feb/2025:13:02:05 +0000",
         "GET",
         "/dashboard",
         "403",
         "128"
        ],
        [
         "192.168.1.133",
         "10/Feb/2025:13:06:43 +0000",
         "DELETE",
         "/activity",
         "404",
         "1024"
        ],
        [
         "192.168.1.141",
         "10/Feb/2025:13:10:19 +0000",
         "POST",
         "/order",
         "201",
         "3072"
        ],
        [
         "192.168.1.29",
         "10/Feb/2025:13:13:04 +0000",
         "DELETE",
         "/profile",
         "404",
         "128"
        ],
        [
         "192.168.1.80",
         "10/Feb/2025:13:16:51 +0000",
         "PUT",
         "/products",
         "403",
         "256"
        ],
        [
         "192.168.1.177",
         "10/Feb/2025:13:20:10 +0000",
         "DELETE",
         "/privacy",
         "503",
         "768"
        ],
        [
         "192.168.1.69",
         "10/Feb/2025:13:23:40 +0000",
         "GET",
         "/history",
         "404",
         "256"
        ],
        [
         "192.168.1.78",
         "10/Feb/2025:13:24:36 +0000",
         "PUT",
         "/api/data",
         "401",
         "512"
        ],
        [
         "192.168.1.126",
         "10/Feb/2025:13:25:44 +0000",
         "GET",
         "/support",
         "500",
         "2048"
        ],
        [
         "192.168.1.89",
         "10/Feb/2025:13:30:16 +0000",
         "DELETE",
         "/user",
         "200",
         "512"
        ],
        [
         "192.168.1.98",
         "10/Feb/2025:13:33:52 +0000",
         "GET",
         "/admin",
         "200",
         "3072"
        ],
        [
         "192.168.1.77",
         "10/Feb/2025:13:37:33 +0000",
         "GET",
         "/report",
         "404",
         "128"
        ],
        [
         "192.168.1.254",
         "10/Feb/2025:13:41:22 +0000",
         "PUT",
         "/appointment",
         "201",
         "2048"
        ],
        [
         "192.168.1.78",
         "10/Feb/2025:13:44:37 +0000",
         "PUT",
         "/terms",
         "401",
         "512"
        ],
        [
         "192.168.1.85",
         "10/Feb/2025:13:45:12 +0000",
         "GET",
         "/profile",
         "403",
         "3072"
        ],
        [
         "192.168.1.93",
         "10/Feb/2025:13:45:42 +0000",
         "GET",
         "/schedule",
         "500",
         "3072"
        ],
        [
         "192.168.1.166",
         "10/Feb/2025:13:48:38 +0000",
         "DELETE",
         "/blog",
         "201",
         "512"
        ],
        [
         "192.168.1.68",
         "10/Feb/2025:13:53:13 +0000",
         "POST",
         "/blog",
         "503",
         "3072"
        ],
        [
         "192.168.1.198",
         "10/Feb/2025:13:57:28 +0000",
         "GET",
         "/profile",
         "401",
         "256"
        ],
        [
         "192.168.1.54",
         "10/Feb/2025:14:01:22 +0000",
         "DELETE",
         "/update",
         "401",
         "2048"
        ],
        [
         "192.168.1.248",
         "10/Feb/2025:14:03:40 +0000",
         "DELETE",
         "/schedule",
         "404",
         "2048"
        ],
        [
         "192.168.1.128",
         "10/Feb/2025:14:07:59 +0000",
         "PUT",
         "/appointment",
         "401",
         "2048"
        ],
        [
         "192.168.1.194",
         "10/Feb/2025:14:08:33 +0000",
         "GET",
         "/contact",
         "404",
         "3072"
        ],
        [
         "192.168.1.104",
         "10/Feb/2025:14:11:44 +0000",
         "DELETE",
         "/feedback",
         "503",
         "256"
        ],
        [
         "192.168.1.138",
         "10/Feb/2025:14:13:05 +0000",
         "PUT",
         "/complaint",
         "403",
         "1024"
        ],
        [
         "192.168.1.12",
         "10/Feb/2025:14:18:05 +0000",
         "DELETE",
         "/support",
         "403",
         "768"
        ],
        [
         "192.168.1.88",
         "10/Feb/2025:14:20:56 +0000",
         "DELETE",
         "/signup",
         "503",
         "3072"
        ],
        [
         "192.168.1.148",
         "10/Feb/2025:14:23:59 +0000",
         "POST",
         "/blog",
         "200",
         "256"
        ],
        [
         "192.168.1.166",
         "10/Feb/2025:14:25:29 +0000",
         "POST",
         "/checkout",
         "401",
         "2048"
        ],
        [
         "192.168.1.179",
         "10/Feb/2025:14:27:23 +0000",
         "DELETE",
         "/contact",
         "401",
         "256"
        ],
        [
         "192.168.1.241",
         "10/Feb/2025:14:30:16 +0000",
         "PUT",
         "/schedule",
         "500",
         "1024"
        ],
        [
         "192.168.1.196",
         "10/Feb/2025:14:34:52 +0000",
         "GET",
         "/report",
         "403",
         "3072"
        ],
        [
         "192.168.1.162",
         "10/Feb/2025:14:39:10 +0000",
         "DELETE",
         "/logout",
         "503",
         "128"
        ],
        [
         "192.168.1.109",
         "10/Feb/2025:14:40:52 +0000",
         "DELETE",
         "/update",
         "201",
         "128"
        ],
        [
         "192.168.1.209",
         "10/Feb/2025:14:45:35 +0000",
         "PUT",
         "/settings",
         "503",
         "1024"
        ],
        [
         "192.168.1.36",
         "10/Feb/2025:14:48:19 +0000",
         "GET",
         "/activity",
         "500",
         "2048"
        ],
        [
         "192.168.1.205",
         "10/Feb/2025:14:50:02 +0000",
         "GET",
         "/complaint",
         "403",
         "1024"
        ],
        [
         "192.168.1.45",
         "10/Feb/2025:14:51:55 +0000",
         "DELETE",
         "/order",
         "200",
         "768"
        ],
        [
         "192.168.1.150",
         "10/Feb/2025:14:56:40 +0000",
         "GET",
         "/signup",
         "500",
         "2048"
        ],
        [
         "192.168.1.43",
         "10/Feb/2025:15:00:45 +0000",
         "GET",
         "/api/data",
         "404",
         "3072"
        ],
        [
         "192.168.1.252",
         "10/Feb/2025:15:05:39 +0000",
         "POST",
         "/blog",
         "500",
         "768"
        ],
        [
         "192.168.1.98",
         "10/Feb/2025:15:07:57 +0000",
         "POST",
         "/login",
         "500",
         "512"
        ],
        [
         "192.168.1.159",
         "10/Feb/2025:15:08:53 +0000",
         "POST",
         "/history",
         "403",
         "768"
        ],
        [
         "192.168.1.136",
         "10/Feb/2025:15:13:25 +0000",
         "GET",
         "/user",
         "503",
         "2048"
        ],
        [
         "192.168.1.187",
         "10/Feb/2025:15:16:37 +0000",
         "POST",
         "/login",
         "503",
         "512"
        ],
        [
         "192.168.1.191",
         "10/Feb/2025:15:18:18 +0000",
         "POST",
         "/login",
         "404",
         "256"
        ],
        [
         "192.168.1.31",
         "10/Feb/2025:15:21:36 +0000",
         "DELETE",
         "/api/data",
         "201",
         "256"
        ],
        [
         "192.168.1.92",
         "10/Feb/2025:15:26:34 +0000",
         "GET",
         "/order",
         "403",
         "2048"
        ],
        [
         "192.168.1.220",
         "10/Feb/2025:15:28:31 +0000",
         "PUT",
         "/blog",
         "401",
         "256"
        ],
        [
         "192.168.1.169",
         "10/Feb/2025:15:29:56 +0000",
         "DELETE",
         "/support",
         "401",
         "128"
        ],
        [
         "192.168.1.78",
         "10/Feb/2025:15:30:26 +0000",
         "POST",
         "/logout",
         "404",
         "768"
        ],
        [
         "192.168.1.141",
         "10/Feb/2025:15:35:24 +0000",
         "PUT",
         "/reviews",
         "200",
         "512"
        ],
        [
         "192.168.1.151",
         "10/Feb/2025:15:38:11 +0000",
         "POST",
         "/faq",
         "403",
         "128"
        ],
        [
         "192.168.1.178",
         "10/Feb/2025:15:42:17 +0000",
         "POST",
         "/admin",
         "403",
         "3072"
        ],
        [
         "192.168.1.148",
         "10/Feb/2025:15:47:08 +0000",
         "DELETE",
         "/admin",
         "401",
         "128"
        ],
        [
         "192.168.1.128",
         "10/Feb/2025:15:49:11 +0000",
         "DELETE",
         "/login",
         "403",
         "1024"
        ],
        [
         "192.168.1.97",
         "10/Feb/2025:15:49:45 +0000",
         "DELETE",
         "/wishlist",
         "404",
         "768"
        ],
        [
         "192.168.1.141",
         "10/Feb/2025:15:52:39 +0000",
         "DELETE",
         "/blog",
         "404",
         "512"
        ],
        [
         "192.168.1.208",
         "10/Feb/2025:15:55:33 +0000",
         "PUT",
         "/complaint",
         "404",
         "3072"
        ],
        [
         "192.168.1.214",
         "10/Feb/2025:15:57:53 +0000",
         "PUT",
         "/blog",
         "200",
         "3072"
        ],
        [
         "192.168.1.66",
         "10/Feb/2025:16:01:32 +0000",
         "PUT",
         "/wishlist",
         "500",
         "1024"
        ],
        [
         "192.168.1.131",
         "10/Feb/2025:16:05:12 +0000",
         "GET",
         "/contact",
         "404",
         "3072"
        ],
        [
         "192.168.1.56",
         "10/Feb/2025:16:08:07 +0000",
         "PUT",
         "/privacy",
         "201",
         "1024"
        ],
        [
         "192.168.1.116",
         "10/Feb/2025:16:09:32 +0000",
         "PUT",
         "/settings",
         "401",
         "3072"
        ],
        [
         "192.168.1.168",
         "10/Feb/2025:16:11:52 +0000",
         "GET",
         "/signup",
         "503",
         "256"
        ],
        [
         "192.168.1.243",
         "10/Feb/2025:16:14:33 +0000",
         "POST",
         "/wishlist",
         "201",
         "256"
        ],
        [
         "192.168.1.160",
         "10/Feb/2025:16:19:12 +0000",
         "DELETE",
         "/admin",
         "503",
         "128"
        ],
        [
         "192.168.1.140",
         "10/Feb/2025:16:23:11 +0000",
         "PUT",
         "/account",
         "401",
         "768"
        ],
        [
         "192.168.1.210",
         "10/Feb/2025:16:25:26 +0000",
         "PUT",
         "/login",
         "401",
         "512"
        ],
        [
         "192.168.1.225",
         "10/Feb/2025:16:28:57 +0000",
         "GET",
         "/dashboard",
         "201",
         "3072"
        ],
        [
         "192.168.1.89",
         "10/Feb/2025:16:29:27 +0000",
         "PUT",
         "/history",
         "201",
         "2048"
        ],
        [
         "192.168.1.137",
         "10/Feb/2025:16:30:43 +0000",
         "GET",
         "/feedback",
         "403",
         "128"
        ],
        [
         "192.168.1.51",
         "10/Feb/2025:16:31:26 +0000",
         "DELETE",
         "/login",
         "201",
         "128"
        ],
        [
         "192.168.1.96",
         "10/Feb/2025:16:35:17 +0000",
         "DELETE",
         "/signup",
         "503",
         "2048"
        ],
        [
         "192.168.1.242",
         "10/Feb/2025:16:37:27 +0000",
         "GET",
         "/about",
         "500",
         "1024"
        ],
        [
         "192.168.1.230",
         "10/Feb/2025:16:39:34 +0000",
         "DELETE",
         "/dashboard",
         "200",
         "128"
        ],
        [
         "192.168.1.238",
         "10/Feb/2025:16:44:31 +0000",
         "POST",
         "/dashboard",
         "503",
         "512"
        ],
        [
         "192.168.1.44",
         "10/Feb/2025:16:46:45 +0000",
         "POST",
         "/report",
         "503",
         "2048"
        ],
        [
         "192.168.1.229",
         "10/Feb/2025:16:49:20 +0000",
         "POST",
         "/complaint",
         "401",
         "256"
        ],
        [
         "192.168.1.201",
         "10/Feb/2025:16:50:39 +0000",
         "PUT",
         "/logout",
         "503",
         "1024"
        ],
        [
         "192.168.1.235",
         "10/Feb/2025:16:54:01 +0000",
         "GET",
         "/wishlist",
         "404",
         "128"
        ],
        [
         "192.168.1.162",
         "10/Feb/2025:16:56:02 +0000",
         "PUT",
         "/support",
         "200",
         "768"
        ],
        [
         "192.168.1.208",
         "10/Feb/2025:16:59:38 +0000",
         "POST",
         "/admin",
         "503",
         "128"
        ],
        [
         "192.168.1.116",
         "10/Feb/2025:17:00:40 +0000",
         "DELETE",
         "/blog",
         "403",
         "256"
        ],
        [
         "192.168.1.41",
         "10/Feb/2025:17:05:36 +0000",
         "POST",
         "/schedule",
         "500",
         "128"
        ],
        [
         "192.168.1.9",
         "10/Feb/2025:17:07:49 +0000",
         "DELETE",
         "/reviews",
         "403",
         "128"
        ],
        [
         "192.168.1.11",
         "10/Feb/2025:17:08:40 +0000",
         "DELETE",
         "/dashboard",
         "404",
         "128"
        ],
        [
         "192.168.1.199",
         "10/Feb/2025:17:11:17 +0000",
         "POST",
         "/complaint",
         "200",
         "512"
        ],
        [
         "192.168.1.114",
         "10/Feb/2025:17:14:17 +0000",
         "POST",
         "/location",
         "200",
         "768"
        ],
        [
         "192.168.1.112",
         "10/Feb/2025:17:16:34 +0000",
         "PUT",
         "/blog",
         "401",
         "256"
        ],
        [
         "192.168.1.19",
         "10/Feb/2025:17:18:33 +0000",
         "PUT",
         "/checkout",
         "403",
         "256"
        ],
        [
         "192.168.1.155",
         "10/Feb/2025:17:21:19 +0000",
         "POST",
         "/api/data",
         "200",
         "2048"
        ],
        [
         "192.168.1.192",
         "10/Feb/2025:17:26:03 +0000",
         "DELETE",
         "/wishlist",
         "404",
         "256"
        ],
        [
         "192.168.1.158",
         "10/Feb/2025:17:30:57 +0000",
         "POST",
         "/update",
         "500",
         "512"
        ],
        [
         "192.168.1.245",
         "10/Feb/2025:17:32:43 +0000",
         "POST",
         "/admin",
         "200",
         "3072"
        ],
        [
         "192.168.1.239",
         "10/Feb/2025:17:35:11 +0000",
         "PUT",
         "/checkout",
         "200",
         "2048"
        ],
        [
         "192.168.1.192",
         "10/Feb/2025:17:38:57 +0000",
         "PUT",
         "/products",
         "503",
         "512"
        ],
        [
         "192.168.1.102",
         "10/Feb/2025:17:41:48 +0000",
         "PUT",
         "/admin",
         "401",
         "512"
        ],
        [
         "192.168.1.82",
         "10/Feb/2025:17:42:30 +0000",
         "DELETE",
         "/news",
         "201",
         "256"
        ],
        [
         "192.168.1.163",
         "10/Feb/2025:17:46:32 +0000",
         "DELETE",
         "/cart",
         "401",
         "1024"
        ],
        [
         "192.168.1.239",
         "10/Feb/2025:17:47:32 +0000",
         "PUT",
         "/appointment",
         "404",
         "256"
        ],
        [
         "192.168.1.70",
         "10/Feb/2025:17:48:33 +0000",
         "DELETE",
         "/account",
         "404",
         "256"
        ],
        [
         "192.168.1.74",
         "10/Feb/2025:17:50:37 +0000",
         "PUT",
         "/privacy",
         "401",
         "256"
        ],
        [
         "192.168.1.238",
         "10/Feb/2025:17:52:17 +0000",
         "DELETE",
         "/activity",
         "503",
         "128"
        ],
        [
         "192.168.1.104",
         "10/Feb/2025:17:54:10 +0000",
         "GET",
         "/report",
         "401",
         "2048"
        ],
        [
         "192.168.1.224",
         "10/Feb/2025:17:58:12 +0000",
         "POST",
         "/news",
         "403",
         "1024"
        ],
        [
         "192.168.1.45",
         "10/Feb/2025:18:00:20 +0000",
         "PUT",
         "/news",
         "200",
         "1024"
        ],
        [
         "192.168.1.75",
         "10/Feb/2025:18:03:12 +0000",
         "GET",
         "/update",
         "401",
         "128"
        ],
        [
         "192.168.1.35",
         "10/Feb/2025:18:06:15 +0000",
         "GET",
         "/location",
         "201",
         "1024"
        ],
        [
         "192.168.1.28",
         "10/Feb/2025:18:07:41 +0000",
         "DELETE",
         "/feedback",
         "503",
         "256"
        ],
        [
         "192.168.1.134",
         "10/Feb/2025:18:11:17 +0000",
         "GET",
         "/report",
         "404",
         "512"
        ],
        [
         "192.168.1.101",
         "10/Feb/2025:18:13:47 +0000",
         "PUT",
         "/support",
         "500",
         "768"
        ],
        [
         "192.168.1.172",
         "10/Feb/2025:18:14:22 +0000",
         "PUT",
         "/account",
         "500",
         "3072"
        ],
        [
         "192.168.1.84",
         "10/Feb/2025:18:18:57 +0000",
         "POST",
         "/cart",
         "500",
         "2048"
        ],
        [
         "192.168.1.164",
         "10/Feb/2025:18:23:31 +0000",
         "DELETE",
         "/contact",
         "404",
         "128"
        ],
        [
         "192.168.1.167",
         "10/Feb/2025:18:24:22 +0000",
         "GET",
         "/terms",
         "403",
         "3072"
        ],
        [
         "192.168.1.147",
         "10/Feb/2025:18:25:10 +0000",
         "POST",
         "/support",
         "500",
         "1024"
        ],
        [
         "192.168.1.50",
         "10/Feb/2025:18:27:46 +0000",
         "PUT",
         "/activity",
         "201",
         "2048"
        ],
        [
         "192.168.1.247",
         "10/Feb/2025:18:32:19 +0000",
         "PUT",
         "/order",
         "401",
         "256"
        ],
        [
         "192.168.1.112",
         "10/Feb/2025:18:36:49 +0000",
         "PUT",
         "/signup",
         "401",
         "2048"
        ],
        [
         "192.168.1.251",
         "10/Feb/2025:18:41:02 +0000",
         "POST",
         "/login",
         "503",
         "1024"
        ],
        [
         "192.168.1.230",
         "10/Feb/2025:18:44:14 +0000",
         "GET",
         "/about",
         "503",
         "768"
        ],
        [
         "192.168.1.33",
         "10/Feb/2025:18:49:09 +0000",
         "PUT",
         "/blog",
         "401",
         "512"
        ],
        [
         "192.168.1.189",
         "10/Feb/2025:18:51:02 +0000",
         "GET",
         "/home",
         "503",
         "3072"
        ],
        [
         "192.168.1.193",
         "10/Feb/2025:18:55:22 +0000",
         "DELETE",
         "/cart",
         "200",
         "512"
        ],
        [
         "192.168.1.215",
         "10/Feb/2025:18:58:38 +0000",
         "GET",
         "/admin",
         "200",
         "2048"
        ],
        [
         "192.168.1.109",
         "10/Feb/2025:19:02:45 +0000",
         "DELETE",
         "/activity",
         "401",
         "256"
        ],
        [
         "192.168.1.64",
         "10/Feb/2025:19:05:12 +0000",
         "PUT",
         "/about",
         "200",
         "256"
        ]
       ],
       "datasetInfos": [],
       "dbfsResultPath": null,
       "isJsonSchema": true,
       "metadata": {},
       "overflow": false,
       "plotOptions": {
        "customPlotOptions": {},
        "displayType": "table",
        "pivotAggregation": null,
        "pivotColumns": null,
        "xColumns": null,
        "yColumns": null
       },
       "removedWidgets": [],
       "schema": [
        {
         "metadata": "{}",
         "name": "IP",
         "type": "\"string\""
        },
        {
         "metadata": "{}",
         "name": "Timestamp",
         "type": "\"string\""
        },
        {
         "metadata": "{}",
         "name": "Method",
         "type": "\"string\""
        },
        {
         "metadata": "{}",
         "name": "URL",
         "type": "\"string\""
        },
        {
         "metadata": "{}",
         "name": "Status",
         "type": "\"string\""
        },
        {
         "metadata": "{}",
         "name": "Size",
         "type": "\"string\""
        }
       ],
       "type": "table"
      }
     },
     "output_type": "display_data"
    }
   ],
   "source": [
    "display(df)"
   ]
  },
  {
   "cell_type": "code",
   "execution_count": 0,
   "metadata": {
    "application/vnd.databricks.v1+cell": {
     "cellMetadata": {
      "byteLimit": 2048000,
      "rowLimit": 10000
     },
     "inputWidgets": {},
     "nuid": "792ab675-e6b2-4108-a083-7bf9b119d8a7",
     "showTitle": false,
     "tableResultSettingsMap": {},
     "title": ""
    }
   },
   "outputs": [
    {
     "output_type": "stream",
     "name": "stdout",
     "output_type": "stream",
     "text": [
      "root\n |-- IP: string (nullable = true)\n |-- Timestamp: string (nullable = true)\n |-- Method: string (nullable = true)\n |-- URL: string (nullable = true)\n |-- Status: string (nullable = true)\n |-- Size: string (nullable = true)\n\n+-------------+--------------------+------+---------+------+----+\n|           IP|           Timestamp|Method|      URL|Status|Size|\n+-------------+--------------------+------+---------+------+----+\n| 192.168.1.62|10/Feb/2025:12:00...|   PUT|/checkout|   403| 768|\n| 192.168.1.92|10/Feb/2025:12:04...|   PUT| /profile|   404|1024|\n| 192.168.1.64|10/Feb/2025:12:05...|DELETE|/settings|   201| 256|\n| 192.168.1.83|10/Feb/2025:12:08...|   GET|/location|   200|1024|\n|192.168.1.167|10/Feb/2025:12:11...|   PUT|    /user|   403|2048|\n+-------------+--------------------+------+---------+------+----+\nonly showing top 5 rows\n\n"
     ]
    }
   ],
   "source": [
    "df.printSchema()  \n",
    "df.show(5)"
   ]
  },
  {
   "cell_type": "code",
   "execution_count": 0,
   "metadata": {
    "application/vnd.databricks.v1+cell": {
     "cellMetadata": {
      "byteLimit": 2048000,
      "rowLimit": 10000
     },
     "inputWidgets": {},
     "nuid": "62ce86fd-5ff6-44c7-bafa-19976eef716d",
     "showTitle": false,
     "tableResultSettingsMap": {},
     "title": ""
    }
   },
   "outputs": [],
   "source": [
    "from pyspark.sql.functions import to_timestamp\n",
    "\n",
    "df = df.withColumn(\"Timestamp\", to_timestamp(\"Timestamp\", \"dd/MMM/yyyy:HH:mm:ss +0000\"))"
   ]
  },
  {
   "cell_type": "code",
   "execution_count": 0,
   "metadata": {
    "application/vnd.databricks.v1+cell": {
     "cellMetadata": {
      "byteLimit": 2048000,
      "rowLimit": 10000
     },
     "inputWidgets": {},
     "nuid": "14011208-2f4a-4e3d-acc7-4ca0e50f5f03",
     "showTitle": false,
     "tableResultSettingsMap": {},
     "title": ""
    }
   },
   "outputs": [
    {
     "output_type": "stream",
     "name": "stdout",
     "output_type": "stream",
     "text": [
      "+-------------+-------------------+------+---------+------+----+\n|           IP|          Timestamp|Method|      URL|Status|Size|\n+-------------+-------------------+------+---------+------+----+\n| 192.168.1.62|2025-02-10 12:00:00|   PUT|/checkout|   403| 768|\n| 192.168.1.92|2025-02-10 12:04:24|   PUT| /profile|   404|1024|\n| 192.168.1.64|2025-02-10 12:05:32|DELETE|/settings|   201| 256|\n| 192.168.1.83|2025-02-10 12:08:31|   GET|/location|   200|1024|\n|192.168.1.167|2025-02-10 12:11:27|   PUT|    /user|   403|2048|\n+-------------+-------------------+------+---------+------+----+\nonly showing top 5 rows\n\n"
     ]
    }
   ],
   "source": [
    "df.show(5)"
   ]
  },
  {
   "cell_type": "code",
   "execution_count": 0,
   "metadata": {
    "application/vnd.databricks.v1+cell": {
     "cellMetadata": {
      "byteLimit": 2048000,
      "rowLimit": 10000
     },
     "inputWidgets": {},
     "nuid": "d6a5737c-7a0e-452e-a17d-f9ecc8b03dc9",
     "showTitle": false,
     "tableResultSettingsMap": {},
     "title": ""
    }
   },
   "outputs": [
    {
     "output_type": "stream",
     "name": "stdout",
     "output_type": "stream",
     "text": [
      "+------+-----+\n|Status|count|\n+------+-----+\n|   200|   19|\n|   503|   25|\n|   401|   25|\n|   201|   16|\n|   404|   23|\n|   403|   24|\n|   500|   18|\n+------+-----+\n\n+-------------+-------------------+------+------------+------+----+\n|           IP|          Timestamp|Method|         URL|Status|Size|\n+-------------+-------------------+------+------------+------+----+\n| 192.168.1.92|2025-02-10 12:04:24|   PUT|    /profile|   404|1024|\n| 192.168.1.44|2025-02-10 12:31:47|   GET|    /contact|   404| 768|\n| 192.168.1.95|2025-02-10 13:00:12|   GET|      /terms|   404|2048|\n|192.168.1.133|2025-02-10 13:06:43|DELETE|   /activity|   404|1024|\n| 192.168.1.29|2025-02-10 13:13:04|DELETE|    /profile|   404| 128|\n| 192.168.1.69|2025-02-10 13:23:40|   GET|    /history|   404| 256|\n| 192.168.1.77|2025-02-10 13:37:33|   GET|     /report|   404| 128|\n|192.168.1.248|2025-02-10 14:03:40|DELETE|   /schedule|   404|2048|\n|192.168.1.194|2025-02-10 14:08:33|   GET|    /contact|   404|3072|\n| 192.168.1.43|2025-02-10 15:00:45|   GET|   /api/data|   404|3072|\n|192.168.1.191|2025-02-10 15:18:18|  POST|      /login|   404| 256|\n| 192.168.1.78|2025-02-10 15:30:26|  POST|     /logout|   404| 768|\n| 192.168.1.97|2025-02-10 15:49:45|DELETE|   /wishlist|   404| 768|\n|192.168.1.141|2025-02-10 15:52:39|DELETE|       /blog|   404| 512|\n|192.168.1.208|2025-02-10 15:55:33|   PUT|  /complaint|   404|3072|\n|192.168.1.131|2025-02-10 16:05:12|   GET|    /contact|   404|3072|\n|192.168.1.235|2025-02-10 16:54:01|   GET|   /wishlist|   404| 128|\n| 192.168.1.11|2025-02-10 17:08:40|DELETE|  /dashboard|   404| 128|\n|192.168.1.192|2025-02-10 17:26:03|DELETE|   /wishlist|   404| 256|\n|192.168.1.239|2025-02-10 17:47:32|   PUT|/appointment|   404| 256|\n+-------------+-------------------+------+------------+------+----+\nonly showing top 20 rows\n\n+------+-----+\n|Method|count|\n+------+-----+\n|  POST|   34|\n|DELETE|   39|\n|   PUT|   40|\n|   GET|   37|\n+------+-----+\n\n"
     ]
    }
   ],
   "source": [
    "# Example: Count occurrences of each status code\n",
    "df.groupBy(\"Status\").count().show()\n",
    "\n",
    "# Example: Filter rows with '404' status\n",
    "df.filter(df.Status == \"404\").show()\n",
    "\n",
    "# Example: Count occurrences of each HTTP method\n",
    "df.groupBy(\"Method\").count().show()\n"
   ]
  },
  {
   "cell_type": "code",
   "execution_count": 0,
   "metadata": {
    "application/vnd.databricks.v1+cell": {
     "cellMetadata": {
      "byteLimit": 2048000,
      "rowLimit": 10000
     },
     "inputWidgets": {},
     "nuid": "0c32410b-6db4-4adf-b8ed-ec3f60af5b51",
     "showTitle": false,
     "tableResultSettingsMap": {},
     "title": ""
    }
   },
   "outputs": [
    {
     "output_type": "stream",
     "name": "stdout",
     "output_type": "stream",
     "text": [
      "+-------------+-----+\n|           IP|count|\n+-------------+-----+\n| 192.168.1.78|    3|\n|192.168.1.141|    3|\n| 192.168.1.64|    2|\n|192.168.1.155|    2|\n|192.168.1.104|    2|\n|192.168.1.116|    2|\n|192.168.1.177|    2|\n|192.168.1.230|    2|\n|192.168.1.192|    2|\n| 192.168.1.44|    2|\n+-------------+-----+\nonly showing top 10 rows\n\n"
     ]
    }
   ],
   "source": [
    "# Count occurrences of each IP address\n",
    "df.groupBy(\"IP\").count().orderBy(\"count\", ascending=False).show(10)  # Top 10 IPs by request count\n"
   ]
  },
  {
   "cell_type": "code",
   "execution_count": 0,
   "metadata": {
    "application/vnd.databricks.v1+cell": {
     "cellMetadata": {
      "byteLimit": 2048000,
      "rowLimit": 10000
     },
     "inputWidgets": {},
     "nuid": "2f371ab3-c479-4ee2-bb76-5607d9edece1",
     "showTitle": false,
     "tableResultSettingsMap": {},
     "title": ""
    }
   },
   "outputs": [
    {
     "output_type": "stream",
     "name": "stdout",
     "output_type": "stream",
     "text": [
      "+------+-----+\n|Status|count|\n+------+-----+\n|   201|   16|\n|   500|   18|\n|   200|   19|\n|   404|   23|\n|   403|   24|\n|   503|   25|\n|   401|   25|\n+------+-----+\n\n"
     ]
    }
   ],
   "source": [
    "df.groupby(\"Status\").count().orderBy(\"count\", ascending = True).show()"
   ]
  },
  {
   "cell_type": "code",
   "execution_count": 0,
   "metadata": {
    "application/vnd.databricks.v1+cell": {
     "cellMetadata": {
      "byteLimit": 2048000,
      "rowLimit": 10000
     },
     "inputWidgets": {},
     "nuid": "5f266830-ef2f-4261-9517-a5d0e3671bc3",
     "showTitle": false,
     "tableResultSettingsMap": {},
     "title": ""
    }
   },
   "outputs": [
    {
     "output_type": "stream",
     "name": "stdout",
     "output_type": "stream",
     "text": [
      "Distinct IPs: 120\n"
     ]
    }
   ],
   "source": [
    "rdd = df.rdd\n",
    "\n",
    "\n",
    "rdd_filtered = rdd.filter(lambda row: row.Status == \"404\")\n",
    "\n",
    "\n",
    "rdd_filtered.collect()\n",
    "\n",
    "distinct_ips = rdd.map(lambda row: row.IP).distinct().count()\n",
    "print(f\"Distinct IPs: {distinct_ips}\")"
   ]
  },
  {
   "cell_type": "code",
   "execution_count": 0,
   "metadata": {
    "application/vnd.databricks.v1+cell": {
     "cellMetadata": {
      "byteLimit": 2048000,
      "rowLimit": 10000
     },
     "inputWidgets": {},
     "nuid": "820acd73-6cc0-45af-b4b5-7b9a59129937",
     "showTitle": false,
     "tableResultSettingsMap": {},
     "title": ""
    }
   },
   "outputs": [
    {
     "output_type": "stream",
     "name": "stdout",
     "output_type": "stream",
     "text": [
      "+-------------+-------------------+------+------------+------+----+\n|           IP|          Timestamp|Method|         URL|Status|Size|\n+-------------+-------------------+------+------------+------+----+\n| 192.168.1.92|2025-02-10 12:04:24|   PUT|    /profile|   404|1024|\n| 192.168.1.44|2025-02-10 12:31:47|   GET|    /contact|   404| 768|\n| 192.168.1.95|2025-02-10 13:00:12|   GET|      /terms|   404|2048|\n|192.168.1.133|2025-02-10 13:06:43|DELETE|   /activity|   404|1024|\n| 192.168.1.29|2025-02-10 13:13:04|DELETE|    /profile|   404| 128|\n| 192.168.1.69|2025-02-10 13:23:40|   GET|    /history|   404| 256|\n| 192.168.1.77|2025-02-10 13:37:33|   GET|     /report|   404| 128|\n|192.168.1.248|2025-02-10 14:03:40|DELETE|   /schedule|   404|2048|\n|192.168.1.194|2025-02-10 14:08:33|   GET|    /contact|   404|3072|\n| 192.168.1.43|2025-02-10 15:00:45|   GET|   /api/data|   404|3072|\n|192.168.1.191|2025-02-10 15:18:18|  POST|      /login|   404| 256|\n| 192.168.1.78|2025-02-10 15:30:26|  POST|     /logout|   404| 768|\n| 192.168.1.97|2025-02-10 15:49:45|DELETE|   /wishlist|   404| 768|\n|192.168.1.141|2025-02-10 15:52:39|DELETE|       /blog|   404| 512|\n|192.168.1.208|2025-02-10 15:55:33|   PUT|  /complaint|   404|3072|\n|192.168.1.131|2025-02-10 16:05:12|   GET|    /contact|   404|3072|\n|192.168.1.235|2025-02-10 16:54:01|   GET|   /wishlist|   404| 128|\n| 192.168.1.11|2025-02-10 17:08:40|DELETE|  /dashboard|   404| 128|\n|192.168.1.192|2025-02-10 17:26:03|DELETE|   /wishlist|   404| 256|\n|192.168.1.239|2025-02-10 17:47:32|   PUT|/appointment|   404| 256|\n+-------------+-------------------+------+------------+------+----+\nonly showing top 20 rows\n\n"
     ]
    }
   ],
   "source": [
    "# Trigger an action to visualize the DAG in the Spark UI\n",
    "df.filter(df.Status == \"404\").show()  # Once this is executed, view the DAG in Spark UI\n"
   ]
  },
  {
   "cell_type": "code",
   "execution_count": 0,
   "metadata": {
    "application/vnd.databricks.v1+cell": {
     "cellMetadata": {
      "byteLimit": 2048000,
      "rowLimit": 10000
     },
     "inputWidgets": {},
     "nuid": "cb96cf84-8f42-4185-9963-64c19f85e6f2",
     "showTitle": false,
     "tableResultSettingsMap": {},
     "title": ""
    }
   },
   "outputs": [
    {
     "output_type": "stream",
     "name": "stdout",
     "output_type": "stream",
     "text": [
      "Out[20]: DataFrame[IP: string, Timestamp: timestamp, Method: string, URL: string, Status: string, Size: string]"
     ]
    }
   ],
   "source": [
    "df.cache()"
   ]
  },
  {
   "cell_type": "code",
   "execution_count": 0,
   "metadata": {
    "application/vnd.databricks.v1+cell": {
     "cellMetadata": {
      "byteLimit": 2048000,
      "rowLimit": 10000
     },
     "inputWidgets": {},
     "nuid": "4f2dc071-8454-414c-9cb7-36cfc3501f7f",
     "showTitle": false,
     "tableResultSettingsMap": {},
     "title": ""
    }
   },
   "outputs": [
    {
     "output_type": "stream",
     "name": "stdout",
     "output_type": "stream",
     "text": [
      "+-------------+-------------------+------+------------+------+----+\n|           IP|          Timestamp|Method|         URL|Status|Size|\n+-------------+-------------------+------+------------+------+----+\n| 192.168.1.92|2025-02-10 12:04:24|   PUT|    /profile|   404|1024|\n| 192.168.1.44|2025-02-10 12:31:47|   GET|    /contact|   404| 768|\n| 192.168.1.95|2025-02-10 13:00:12|   GET|      /terms|   404|2048|\n|192.168.1.133|2025-02-10 13:06:43|DELETE|   /activity|   404|1024|\n| 192.168.1.29|2025-02-10 13:13:04|DELETE|    /profile|   404| 128|\n| 192.168.1.69|2025-02-10 13:23:40|   GET|    /history|   404| 256|\n| 192.168.1.77|2025-02-10 13:37:33|   GET|     /report|   404| 128|\n|192.168.1.248|2025-02-10 14:03:40|DELETE|   /schedule|   404|2048|\n|192.168.1.194|2025-02-10 14:08:33|   GET|    /contact|   404|3072|\n| 192.168.1.43|2025-02-10 15:00:45|   GET|   /api/data|   404|3072|\n|192.168.1.191|2025-02-10 15:18:18|  POST|      /login|   404| 256|\n| 192.168.1.78|2025-02-10 15:30:26|  POST|     /logout|   404| 768|\n| 192.168.1.97|2025-02-10 15:49:45|DELETE|   /wishlist|   404| 768|\n|192.168.1.141|2025-02-10 15:52:39|DELETE|       /blog|   404| 512|\n|192.168.1.208|2025-02-10 15:55:33|   PUT|  /complaint|   404|3072|\n|192.168.1.131|2025-02-10 16:05:12|   GET|    /contact|   404|3072|\n|192.168.1.235|2025-02-10 16:54:01|   GET|   /wishlist|   404| 128|\n| 192.168.1.11|2025-02-10 17:08:40|DELETE|  /dashboard|   404| 128|\n|192.168.1.192|2025-02-10 17:26:03|DELETE|   /wishlist|   404| 256|\n|192.168.1.239|2025-02-10 17:47:32|   PUT|/appointment|   404| 256|\n+-------------+-------------------+------+------------+------+----+\nonly showing top 20 rows\n\n"
     ]
    }
   ],
   "source": [
    "df.filter(df.Status == \"404\").show()"
   ]
  },
  {
   "cell_type": "code",
   "execution_count": 0,
   "metadata": {
    "application/vnd.databricks.v1+cell": {
     "cellMetadata": {
      "byteLimit": 2048000,
      "rowLimit": 10000
     },
     "inputWidgets": {},
     "nuid": "6148ae3f-6a53-4a2e-b9a0-fa417582de7b",
     "showTitle": false,
     "tableResultSettingsMap": {},
     "title": ""
    }
   },
   "outputs": [],
   "source": [
    "df_repartitioned = df.repartition(\"Status\")"
   ]
  },
  {
   "cell_type": "code",
   "execution_count": 0,
   "metadata": {
    "application/vnd.databricks.v1+cell": {
     "cellMetadata": {
      "byteLimit": 2048000,
      "rowLimit": 10000
     },
     "inputWidgets": {},
     "nuid": "64addaac-dbe7-47b7-b707-7d0383464485",
     "showTitle": false,
     "tableResultSettingsMap": {},
     "title": ""
    }
   },
   "outputs": [
    {
     "output_type": "stream",
     "name": "stdout",
     "output_type": "stream",
     "text": [
      "Number of partitions: 1\n"
     ]
    }
   ],
   "source": [
    "print(f\"Number of partitions: {df_repartitioned.rdd.getNumPartitions()}\")"
   ]
  },
  {
   "cell_type": "code",
   "execution_count": 0,
   "metadata": {
    "application/vnd.databricks.v1+cell": {
     "cellMetadata": {
      "byteLimit": 2048000,
      "rowLimit": 10000
     },
     "inputWidgets": {},
     "nuid": "f3b3fda3-12d8-4cd3-8363-6b490be507d6",
     "showTitle": false,
     "tableResultSettingsMap": {},
     "title": ""
    }
   },
   "outputs": [
    {
     "output_type": "stream",
     "name": "stdout",
     "output_type": "stream",
     "text": [
      "+-------------+-------------------+------+---------+------+----+\n|           IP|          Timestamp|Method|      URL|Status|Size|\n+-------------+-------------------+------+---------+------+----+\n| 192.168.1.62|2025-02-10 12:00:00|   PUT|/checkout|   403| 768|\n| 192.168.1.92|2025-02-10 12:04:24|   PUT| /profile|   404|1024|\n| 192.168.1.64|2025-02-10 12:05:32|DELETE|/settings|   201| 256|\n| 192.168.1.83|2025-02-10 12:08:31|   GET|/location|   200|1024|\n|192.168.1.167|2025-02-10 12:11:27|   PUT|    /user|   403|2048|\n|192.168.1.155|2025-02-10 12:15:00|   GET|    /news|   200| 256|\n| 192.168.1.60|2025-02-10 12:15:44|   PUT|/settings|   503|1024|\n|192.168.1.217|2025-02-10 12:17:09|DELETE|/services|   401|3072|\n| 192.168.1.70|2025-02-10 12:19:24|  POST|/activity|   500|2048|\n|192.168.1.228|2025-02-10 12:21:17|   GET|    /blog|   201| 256|\n+-------------+-------------------+------+---------+------+----+\nonly showing top 10 rows\n\n"
     ]
    }
   ],
   "source": [
    "df.show(10)"
   ]
  },
  {
   "cell_type": "code",
   "execution_count": 0,
   "metadata": {
    "application/vnd.databricks.v1+cell": {
     "cellMetadata": {
      "byteLimit": 2048000,
      "rowLimit": 10000
     },
     "inputWidgets": {},
     "nuid": "20c12c3c-de36-48ae-968c-05c2a6d853bc",
     "showTitle": false,
     "tableResultSettingsMap": {},
     "title": ""
    }
   },
   "outputs": [
    {
     "output_type": "stream",
     "name": "stdout",
     "output_type": "stream",
     "text": [
      "+------+---------+\n|Status|sum(Size)|\n+------+---------+\n|   200|    22656|\n|   503|    24960|\n|   401|    23168|\n|   201|    16512|\n|   404|    23680|\n|   403|    32000|\n|   500|    28288|\n+------+---------+\n\n"
     ]
    }
   ],
   "source": [
    "from pyspark.sql.functions import col\n",
    "\n",
    "# Convert Size column to Integer type\n",
    "df = df.withColumn(\"Size\", col(\"Size\").cast(\"int\"))\n",
    "\n",
    "# Now, sum the Size values for each Status code\n",
    "df.groupBy(\"Status\").sum(\"Size\").show()\n",
    "#df.groupBy(\"Status\").sum(\"Size\").show()\n"
   ]
  },
  {
   "cell_type": "code",
   "execution_count": 0,
   "metadata": {
    "application/vnd.databricks.v1+cell": {
     "cellMetadata": {
      "byteLimit": 2048000,
      "rowLimit": 10000
     },
     "inputWidgets": {},
     "nuid": "48e8386e-0cd4-4bab-956d-23387d34fcf8",
     "showTitle": false,
     "tableResultSettingsMap": {},
     "title": ""
    }
   },
   "outputs": [
    {
     "output_type": "stream",
     "name": "stdout",
     "output_type": "stream",
     "text": [
      "+------+---------+\n|Status|sum(Size)|\n+------+---------+\n|   200|    22656|\n|   503|    24960|\n|   401|    23168|\n|   201|    16512|\n|   404|    23680|\n|   403|    32000|\n|   500|    28288|\n+------+---------+\n\n"
     ]
    }
   ],
   "source": [
    "df.groupBy(\"Status\").sum(\"Size\").show()"
   ]
  },
  {
   "cell_type": "code",
   "execution_count": 0,
   "metadata": {
    "application/vnd.databricks.v1+cell": {
     "cellMetadata": {
      "byteLimit": 2048000,
      "rowLimit": 10000
     },
     "inputWidgets": {},
     "nuid": "d0f64361-bb4f-431a-a864-8b35e9a14842",
     "showTitle": false,
     "tableResultSettingsMap": {},
     "title": ""
    }
   },
   "outputs": [
    {
     "output_type": "stream",
     "name": "stdout",
     "output_type": "stream",
     "text": [
      "root\n |-- IP: string (nullable = true)\n |-- Timestamp: timestamp (nullable = true)\n |-- Method: string (nullable = true)\n |-- URL: string (nullable = true)\n |-- Status: string (nullable = true)\n |-- Size: integer (nullable = true)\n\n"
     ]
    }
   ],
   "source": [
    "df.printSchema()\n"
   ]
  },
  {
   "cell_type": "code",
   "execution_count": 0,
   "metadata": {
    "application/vnd.databricks.v1+cell": {
     "cellMetadata": {
      "byteLimit": 2048000,
      "rowLimit": 10000
     },
     "inputWidgets": {},
     "nuid": "3dd23a86-b29a-4c95-b7f0-a51594261077",
     "showTitle": false,
     "tableResultSettingsMap": {},
     "title": ""
    }
   },
   "outputs": [
    {
     "output_type": "stream",
     "name": "stdout",
     "output_type": "stream",
     "text": [
      "+-------------+-------------------+------+-----+------+----+\n|           IP|          Timestamp|Method|  URL|Status|Size|\n+-------------+-------------------+------+-----+------+----+\n|192.168.1.167|2025-02-10 12:11:27|   PUT|/user|   403|2048|\n|192.168.1.231|2025-02-10 12:42:19|  POST|/user|   500|3072|\n| 192.168.1.89|2025-02-10 13:30:16|DELETE|/user|   200| 512|\n|192.168.1.136|2025-02-10 15:13:25|   GET|/user|   503|2048|\n+-------------+-------------------+------+-----+------+----+\n\n"
     ]
    }
   ],
   "source": [
    "df.filter(df.URL == \"/user\").show()"
   ]
  },
  {
   "cell_type": "code",
   "execution_count": 0,
   "metadata": {
    "application/vnd.databricks.v1+cell": {
     "cellMetadata": {
      "byteLimit": 2048000,
      "rowLimit": 10000
     },
     "inputWidgets": {},
     "nuid": "d5b9a2a7-70fb-407b-a64a-f7e8f9a29fd8",
     "showTitle": false,
     "tableResultSettingsMap": {},
     "title": ""
    }
   },
   "outputs": [
    {
     "output_type": "stream",
     "name": "stdout",
     "output_type": "stream",
     "text": [
      "+------+-----+\n|Status|count|\n+------+-----+\n|   503|   25|\n|   401|   25|\n|   403|   24|\n|   404|   23|\n|   200|   19|\n|   500|   18|\n|   201|   16|\n+------+-----+\n\n+------+---------+\n|Status|sum(Size)|\n+------+---------+\n|   403|    32000|\n|   500|    28288|\n|   503|    24960|\n|   404|    23680|\n|   401|    23168|\n|   200|    22656|\n|   201|    16512|\n+------+---------+\n\n+------+-----+\n|Method|count|\n+------+-----+\n|   PUT|   40|\n|DELETE|   39|\n|   GET|   37|\n|  POST|   34|\n+------+-----+\n\n+---------+-----+\n|      URL|count|\n+---------+-----+\n|    /blog|   11|\n|   /admin|    8|\n|   /login|    7|\n|/activity|    7|\n| /support|    6|\n+---------+-----+\nonly showing top 5 rows\n\n+-------------+---------+\n|           IP|sum(Size)|\n+-------------+---------+\n|192.168.1.167|     5120|\n|192.168.1.141|     4096|\n| 192.168.1.98|     3584|\n|192.168.1.116|     3328|\n|192.168.1.243|     3328|\n+-------------+---------+\nonly showing top 5 rows\n\n"
     ]
    }
   ],
   "source": [
    "from pyspark.sql.functions import desc\n",
    "\n",
    "# Count occurrences of each status code\n",
    "df.groupBy(\"Status\").count().orderBy(desc(\"count\")).show()\n",
    "\n",
    "# Sum of response sizes per status code\n",
    "df.groupBy(\"Status\").sum(\"Size\").orderBy(desc(\"sum(Size)\")).show()\n",
    "\n",
    "# Most common HTTP methods\n",
    "df.groupBy(\"Method\").count().orderBy(desc(\"count\")).show()\n",
    "\n",
    "# Top 5 most requested URLs\n",
    "df.groupBy(\"URL\").count().orderBy(desc(\"count\")).show(5)\n",
    "\n",
    "# Top 5 IPs generating the most traffic\n",
    "df.groupBy(\"IP\").sum(\"Size\").orderBy(desc(\"sum(Size)\")).show(5)"
   ]
  }
 ],
 "metadata": {
  "application/vnd.databricks.v1+notebook": {
   "computePreferences": null,
   "dashboards": [],
   "environmentMetadata": null,
   "language": "python",
   "notebookMetadata": {
    "mostRecentlyExecutedCommandWithImplicitDF": {
     "commandId": 1877129196248073,
     "dataframes": [
      "_sqldf"
     ]
    },
    "pythonIndentUnit": 4
   },
   "notebookName": "Spark-Big Data-logs",
   "widgets": {}
  }
 },
 "nbformat": 4,
 "nbformat_minor": 0
}
